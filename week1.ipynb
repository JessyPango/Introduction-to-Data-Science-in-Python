{
 "cells": [
  {
   "cell_type": "markdown",
   "id": "5092fbee-6377-4e46-b33a-017fb5d3be05",
   "metadata": {
    "tags": []
   },
   "source": [
    "# Expressions régulières et le module `re`"
   ]
  },
  {
   "cell_type": "markdown",
   "id": "e7942474-cc01-4881-8583-065e1e61cd33",
   "metadata": {
    "tags": []
   },
   "source": [
    "## Complément - niveau basique"
   ]
  },
  {
   "cell_type": "markdown",
   "id": "fbe2c871-ea00-45b7-833a-f37d9a4ef992",
   "metadata": {},
   "source": [
    "### Avertissement"
   ]
  },
  {
   "cell_type": "markdown",
   "id": "6f154283-8646-4033-9052-65e5615e8a04",
   "metadata": {},
   "source": [
    "*Il s'agit de manipulations de chaîne de caractères, mais d'un autre côté, celà nécessite de créer des instances de classes, et donc d'avoir vue la programmation orienté objet.*"
   ]
  },
  {
   "cell_type": "markdown",
   "id": "2af60866-8b9e-42c7-a7df-8d07df45db8a",
   "metadata": {},
   "source": [
    "**Une expression régulière (en anglais *pattern matching*) est un object mathématique qui permet de décrire un ensemble de textes qui possèdent des propriétés communes.** \\\n",
    "Par exemple, s'il vous arrive d'utiliser un terminal, et que vous tapez \n",
    "```bash\n",
    "$ dir *.txt\n",
    "```\n",
    "(ou `ls *.txt` sur linux ou mac), vous ultilisez tout simplement l'expression régulière `*.txt` qui désigne tout les fichiers dont le nom se termine par \".txt\". \n",
    "\n",
    "Le language Perl a été le premier à populariser l'utilisation des expressions régulières en les supportant nativement dans le language, et non au travers d'une librairie. En Python, les expressions régulières sont diqponibles de maniière plus tradictionnelle, via le module `re` (regular expressions) de la librairie standard. Le propos de ce NoteBook est de vous en donner une première introduction."
   ]
  },
  {
   "cell_type": "code",
   "execution_count": 1,
   "id": "9bf0f282-05bb-4533-a535-220b76d4713e",
   "metadata": {},
   "outputs": [],
   "source": [
    "import re"
   ]
  },
  {
   "cell_type": "markdown",
   "id": "51113cd0-4d6c-4e76-bf78-839ca4ae1d84",
   "metadata": {},
   "source": [
    "Voici un exemple; on cherche à savoir si un objet `chaine` est de la forme `*-*.txt`, et si oui, à calculer la partie chaîne qui remplace le `*` :"
   ]
  },
  {
   "cell_type": "code",
   "execution_count": 17,
   "id": "62598e11-3f9f-4c4d-82c8-23632fb31b96",
   "metadata": {},
   "outputs": [],
   "source": [
    "# Un objet 'expression regulière' - on dit aussi \"pattern\"\n",
    "regexp = \"(.*)-(.*)\\.txt\""
   ]
  },
  {
   "cell_type": "code",
   "execution_count": 18,
   "id": "4cd553ef-8db7-43ad-91c1-d110ef522c17",
   "metadata": {},
   "outputs": [],
   "source": [
    "# La chaine de départ\n",
    "chaine = \"abcdef.txt\""
   ]
  },
  {
   "cell_type": "code",
   "execution_count": 19,
   "id": "cea67f40-48b9-4d68-8980-7cd059459795",
   "metadata": {},
   "outputs": [
    {
     "data": {
      "text/plain": [
       "True"
      ]
     },
     "execution_count": 19,
     "metadata": {},
     "output_type": "execute_result"
    }
   ],
   "source": [
    "# La fonction qui calcule si la fonction 'matche' le pattern\n",
    "match = re.match(regexp, chaine)\n",
    "match is None"
   ]
  },
  {
   "cell_type": "markdown",
   "id": "f2ed4f16-02bd-4bf2-9f28-f3f50e4e2410",
   "metadata": {},
   "source": [
    "Le fait que l'objet `match` vaut `None` indique que la chaine n'est pas de la bonne forme (il manque un `-` dans le nom); avec une autre chaine par contre :"
   ]
  },
  {
   "cell_type": "code",
   "execution_count": 20,
   "id": "477562b9-3b84-473d-a9e7-29c5e07c65f6",
   "metadata": {},
   "outputs": [],
   "source": [
    "# La chaine de départ\n",
    "chaine = \"12-21.txt\""
   ]
  },
  {
   "cell_type": "code",
   "execution_count": 22,
   "id": "dd840d26-216c-46e0-a93f-2db171a0b493",
   "metadata": {},
   "outputs": [
    {
     "data": {
      "text/plain": [
       "False"
      ]
     },
     "execution_count": 22,
     "metadata": {},
     "output_type": "execute_result"
    }
   ],
   "source": [
    "# la fonction qui calcule si la chaine 'matche' le pattern\n",
    "match = re.match(regexp, chaine)\n",
    "match is None"
   ]
  },
  {
   "cell_type": "markdown",
   "id": "a33ee624-e900-45ad-a014-bc8486965d90",
   "metadata": {},
   "source": [
    "Ici `match` est un objet, qui nous permet ensuite d'extraire les différentes parties, comme ceci :"
   ]
  },
  {
   "cell_type": "code",
   "execution_count": 25,
   "id": "9b536f5a-079a-4d53-8aea-f65a6933bf08",
   "metadata": {},
   "outputs": [
    {
     "data": {
      "text/plain": [
       "'12'"
      ]
     },
     "execution_count": 25,
     "metadata": {},
     "output_type": "execute_result"
    }
   ],
   "source": [
    "match[1]"
   ]
  },
  {
   "cell_type": "code",
   "execution_count": 26,
   "id": "c3d400df-5722-42ff-8c13-6301fe36371a",
   "metadata": {},
   "outputs": [
    {
     "data": {
      "text/plain": [
       "'21'"
      ]
     },
     "execution_count": 26,
     "metadata": {},
     "output_type": "execute_result"
    }
   ],
   "source": [
    "match[2]"
   ]
  },
  {
   "cell_type": "markdown",
   "id": "cbd4e1b4-1823-4398-8809-7245e615c0bb",
   "metadata": {},
   "source": [
    "Bien sûr on peux faire des choses beaucoup plus élaborées avec `re`, mais en première lecture cette introduction doit suffire pour avoir une idée de ce qu'on peux faire avec les expressions régulières."
   ]
  },
  {
   "cell_type": "markdown",
   "id": "9dae2257-fb8a-4811-b63e-cd179ab468dc",
   "metadata": {
    "tags": []
   },
   "source": [
    "## Complément - niveau intermédiaire"
   ]
  },
  {
   "cell_type": "markdown",
   "id": "81de7c74-e33d-4cfd-97c3-e6772cd5830f",
   "metadata": {},
   "source": [
    "Approfondissons à présent:"
   ]
  },
  {
   "cell_type": "markdown",
   "id": "1fb0b81a-5cba-4d0c-968d-03e4b3167771",
   "metadata": {},
   "source": [
    "Dans un terminal, `*.txt`est une expression régulière très simple. Le module `re` fournie le moyen de construire dees expressions régulière très élaborées et plus puissantes que ce que supporte le terminal. \\\n",
    "C'est pourquoi la synthaxe des regexps de `re`est un peux différente. \\\n",
    "Par exemple comme on vient de voir pour filtrer la mêle famille de chaîne que `*-*.txt` avec le module `re`, il nous a fallu écrire l'expression régulière sous une forme légèrement différente."
   ]
  },
  {
   "cell_type": "markdown",
   "id": "d38035f2-7539-4231-a6e0-c2c9695172b3",
   "metadata": {},
   "source": [
    "Je conseille d'avoir sous la main la [documentation du module `re`](https://docs.python.org/3/library/re.html#regular-expression-syntax) pendant que vous lisez ce notebook."
   ]
  },
  {
   "cell_type": "markdown",
   "id": "ee8ca9d1-824e-413c-b226-026a20e31ff5",
   "metadata": {
    "tags": []
   },
   "source": [
    "### Avertissement"
   ]
  },
  {
   "cell_type": "markdown",
   "id": "306c3d84-f805-4f21-b2c6-5b39f3e0de8b",
   "metadata": {},
   "source": [
    "Dans le complément nous serons amené à utiliser des traits qui dépendes du LOCALE, c'est-à-dire, pour faire simple, de la configuration de l'ordinateur vis-à-vis de la langue.\n",
    "\n",
    "TODO: Entrer ma configuration locale"
   ]
  },
  {
   "cell_type": "markdown",
   "id": "48142f5b-31ae-44a5-92f6-1e93b1ea133f",
   "metadata": {
    "tags": []
   },
   "source": [
    "### Un exemple simple"
   ]
  },
  {
   "cell_type": "markdown",
   "id": "81fe3caf-51ed-4fe2-8f53-2288d98ac3c5",
   "metadata": {
    "tags": []
   },
   "source": [
    "##### `findall`"
   ]
  },
  {
   "cell_type": "markdown",
   "id": "dc094814-6847-4520-8ead-615473e0ff10",
   "metadata": {},
   "source": [
    "On se donne deux exemples de chaînes"
   ]
  },
  {
   "cell_type": "code",
   "execution_count": 27,
   "id": "101b93af-fa20-4617-b7ac-bd424eb77f6f",
   "metadata": {},
   "outputs": [],
   "source": [
    "sentences = ['Lacus a donec, vitae gravida proin sociis.', 'Neque ipsum! rhoncus cras quam.']"
   ]
  },
  {
   "cell_type": "markdown",
   "id": "595d9432-7aa8-425d-8637-7f0fb179f6f3",
   "metadata": {},
   "source": [
    "On peut chercher tous les mots ce terminant par `a` ou `m` dans une chaîne avec `findall`"
   ]
  },
  {
   "cell_type": "code",
   "execution_count": 29,
   "id": "a4a12332-0fc3-439b-b941-7df56079bc3f",
   "metadata": {},
   "outputs": [
    {
     "name": "stdout",
     "output_type": "stream",
     "text": [
      "---- dans--> Lacus a donec, vitae gravida proin sociis.< \n",
      "['a ', 'gravida ']\n",
      "---- dans--> Neque ipsum! rhoncus cras quam.< \n",
      "['ipsum!', 'quam.']\n"
     ]
    }
   ],
   "source": [
    "for sentence in sentences:\n",
    "    print(f\"---- dans--> {sentence}< \")\n",
    "    print(re.findall(r\"\\w*[am]\\W\", sentence))"
   ]
  },
  {
   "cell_type": "markdown",
   "id": "b36641c6-4897-45fe-9404-2f51ff454256",
   "metadata": {},
   "source": [
    "Ce code permet de chercher toutes (`findall`) les occurences de l'expression régulière qui est ici définie par le raw-string\n",
    "```\n",
    "r\"\\w*[am]\\W\"\n",
    "```\n",
    "(On rappelle qu'un raw-string est une chaine précédée par la lettre `r`, et que c'est utile surtout lorsqu'on veut insérer un backslash `\\` dans la chaine.)\n",
    "\n",
    "Nous verrons tout à l'heure comment fabriquer des expressions régulières plus en détail, mais pour démystifier au moins celle-ci ( `r\"\\w*[am]\\W\"` ), on a mis bout à bout les morceaux suivants.\n",
    "\n",
    "* \\w* : On veux trouver une sous-chaîne qui commence par un nombre quelconque, y compris nul( * ) de caractère alphanumériques (\\w). Ceci est définie en fonction de votre LOCALE, on y reviendre.\n",
    "* [am] : immédiatement après, il nous faut trouver un caractère a ou m.\n",
    "* \\W : et enfin, il nous faut trouver un caractère qui ne soit **pas** alphanumérique. Cece est important puisqu'on cherche les mots qui **se terminent** par un a ou un m, si on le le mettait pas on obtiendrait ceci"
   ]
  },
  {
   "cell_type": "code",
   "execution_count": 31,
   "id": "c2dd3631-abb5-464c-b875-c1a316a39bb3",
   "metadata": {},
   "outputs": [
    {
     "name": "stdout",
     "output_type": "stream",
     "text": [
      "---- dans--> Lacus a donec, vitae gravida proin sociis.< \n",
      "['La', 'a', 'vita', 'gravida']\n",
      "---- dans--> Neque ipsum! rhoncus cras quam.< \n",
      "['ipsum', 'cra', 'quam']\n"
     ]
    }
   ],
   "source": [
    "for sentence in sentences:\n",
    "    print(f\"---- dans--> {sentence}< \")\n",
    "    print(re.findall(r\"\\w*[am]\", sentence))"
   ]
  },
  {
   "cell_type": "markdown",
   "id": "46a2ab09-8ead-40f0-ba37-2903f9457e05",
   "metadata": {},
   "source": [
    "*NB: * Comme vous le devinez, ici la notation for ... in ...\n",
    "permet de parcourir successivement tous les éléments de la séquence"
   ]
  },
  {
   "cell_type": "markdown",
   "id": "9948e7b1-ce75-4174-8619-6e2ba65399fc",
   "metadata": {
    "tags": []
   },
   "source": [
    "##### `split`"
   ]
  },
  {
   "cell_type": "markdown",
   "id": "357df1d5-7aa8-4536-a9fc-d16d8a14945b",
   "metadata": {},
   "source": [
    "Une autre forme simple d'utilisationdes regexps est `re.spit`, qui fournie une fonctionnalité voisine de `str.split`, mais où les séparateur sont exprimés comme une expression régulière"
   ]
  },
  {
   "cell_type": "code",
   "execution_count": 32,
   "id": "30ed6740-284c-4568-99d4-29d4109a46df",
   "metadata": {},
   "outputs": [
    {
     "name": "stdout",
     "output_type": "stream",
     "text": [
      "---- dans >Lacus a donec, vitae gravida proin sociis.<\n",
      "['Lacus', 'a', 'donec', 'vitae', 'gravida', 'proin', 'sociis', '']\n",
      "\n",
      "---- dans >Neque ipsum! rhoncus cras quam.<\n",
      "['Neque', 'ipsum', 'rhoncus', 'cras', 'quam', '']\n",
      "\n"
     ]
    }
   ],
   "source": [
    "for sentence in sentences:\n",
    "    print(f\"---- dans >{sentence}<\")\n",
    "    print(re.split(r\"\\W+\", sentence))\n",
    "    print()"
   ]
  },
  {
   "cell_type": "markdown",
   "id": "cdb71e7b-a626-4dab-89c2-3f8147bad1c4",
   "metadata": {},
   "source": [
    "Ici, l'expression régulière, qui bien sûr d'écrit le séparateur, est simplement `\\W+` cet à dire toute suite d'au moins un caractère non alphanumérique. \\\n",
    "Nous avons donc un moyen simple, et plus puissant que `str.split`, de couper un texte en mots."
   ]
  },
  {
   "cell_type": "markdown",
   "id": "6e032def-c3ec-46bb-961b-06e81edc826b",
   "metadata": {
    "jp-MarkdownHeadingCollapsed": true,
    "tags": []
   },
   "source": [
    "##### `sub`"
   ]
  },
  {
   "cell_type": "markdown",
   "id": "ed03ed85-1b12-4f7e-aa55-4069ba4caf2c",
   "metadata": {},
   "source": [
    "Une troisième méthode utilitaire est `re.sub` qui permet de remplacer les occurence d'une regexp, comme par exemple:"
   ]
  },
  {
   "cell_type": "code",
   "execution_count": 33,
   "id": "23f54f33-8127-49de-b91f-e0d69748d2ed",
   "metadata": {},
   "outputs": [
    {
     "name": "stdout",
     "output_type": "stream",
     "text": [
      "---- dans >Lacus a donec, vitae gravida proin sociis.<\n",
      "XLacusY XaY XdonecY, XvitaeY XgravidaY XproinY XsociisY.\n",
      "\n",
      "---- dans >Neque ipsum! rhoncus cras quam.<\n",
      "XNequeY XipsumY! XrhoncusY XcrasY XquamY.\n",
      "\n"
     ]
    }
   ],
   "source": [
    "for sentence in sentences:\n",
    "    print(f\"---- dans >{sentence}<\")\n",
    "    print(re.sub(r\"(\\w+)\", r\"X\\1Y\", sentence))\n",
    "    print()"
   ]
  },
  {
   "cell_type": "markdown",
   "id": "383b5501-0a0b-4663-a001-d970118491d3",
   "metadata": {},
   "source": [
    "Ici l'expression régulière (le premier argument) contient un **groupe**: on a utilisé les parenthèse autour du `\\w+`. le second argument est la chaîne de remplacement, dans laquelle on a fait **référence au groupe** en écrivant `\\1`, qui veux dire tout simplement \"le premier groupe\". \\\n",
    "\\\n",
    "Donc au final, l'effet de cet appel est d'entourer toutes les suites de caractères alphanumériques par `X` et `Y`."
   ]
  },
  {
   "cell_type": "markdown",
   "id": "7213baf1-a377-443a-8112-104e74ada3b9",
   "metadata": {},
   "source": [
    "**`Pourquoi un raw-string ?`**"
   ]
  },
  {
   "cell_type": "markdown",
   "id": "b94d9513-6185-4b5e-a48d-8f5e0e27a6db",
   "metadata": {},
   "source": [
    "En guise de digression, il n'y a aucune aubligation à utiliser un raw-string, d'ailleurs on rappelle qu'il n'y a pas de différence de nature entre un raw-string et une chaine usuelle"
   ]
  },
  {
   "cell_type": "code",
   "execution_count": 35,
   "id": "9cd707ef-7a55-4132-a37e-12fbbcd5473e",
   "metadata": {},
   "outputs": [
    {
     "name": "stdout",
     "output_type": "stream",
     "text": [
      "both compared with is → True\n",
      "both compared with == → True\n"
     ]
    }
   ],
   "source": [
    "raw = r'abc'\n",
    "regular = 'abc'\n",
    "# comme on a pris une 'petite' chaîne ce sont les mêmes objets\n",
    "print(f\"both compared with is → {raw is regular}\")\n",
    "# et donc a fortiori\n",
    "print(f\"both compared with == → {raw == regular}\")"
   ]
  },
  {
   "cell_type": "markdown",
   "id": "7dc2d43d-e78d-4be7-94d3-90ffde432e46",
   "metadata": {},
   "source": [
    "Un raw-string désactive l'interpretation des `\\` à l'intérieur de la chaîne, par exemple, `\\t` est interpreté comme un caractère dans une chaîne usuelle. Sans raw-string, il faut doubler les `\\` pour qu'il n'y ait pas d'interpretation. \\\n",
    "Il se trouve que le backslash `\\` à l'intérieur des expressions régulière est d'un usage assez courant - on l'a vue déjà plusieur fois. C'est pourquoi **on utilise fréquemment un raw-string** pour décrire une expression régulière."
   ]
  },
  {
   "cell_type": "markdown",
   "id": "4f9b4991-fda2-490b-a7f1-f55eb93e0ed6",
   "metadata": {
    "tags": []
   },
   "source": [
    "### Un deuxième exemple\n"
   ]
  },
  {
   "cell_type": "markdown",
   "id": "ea666150-5cc0-48fd-931a-ae2771de393c",
   "metadata": {},
   "source": [
    "Nous allons maintenant voir comment on peux d'abord vérifier si une chaine est conforme au critère défini par l'expression régulière, mais aussi *extraire* les morceau de chaine qui correspondes au différentes partie de l'expression.\n",
    "\n",
    "Pour cela, supposons qu'on s'intéresse aux chaînes qui comportent 5 parties, une suite de chiffrez, une suite de lettres, des chiffre à nouveau, des lettres et enfin de nouveau des chiffres. "
   ]
  },
  {
   "cell_type": "markdown",
   "id": "98955c6f-1210-446d-8e42-347a78d2e52a",
   "metadata": {},
   "source": [
    "Pour celà on considère ces trois chaînes en entrée"
   ]
  },
  {
   "cell_type": "code",
   "execution_count": 36,
   "id": "cc1cf204-e06e-4914-bc24-f822061dccf7",
   "metadata": {},
   "outputs": [],
   "source": [
    "samples = ['890hj000nnm890',    # cette entrée convient\n",
    "          '123abc456def789',   # celle-ci aussi\n",
    "          '8090abababab879',   # celle-ci non\n",
    "          ]"
   ]
  },
  {
   "cell_type": "markdown",
   "id": "7211112f-8b68-4550-bdde-1a795742ac5c",
   "metadata": {
    "tags": []
   },
   "source": [
    "##### `match`"
   ]
  },
  {
   "cell_type": "markdown",
   "id": "48adaeaa-77ce-42c7-9b51-5f8cfcb43bf2",
   "metadata": {},
   "source": [
    "Pour commencer, voyons que l'on peux facilement **vérifier si une chaîne vérifie** ou non le critère. "
   ]
  },
  {
   "cell_type": "code",
   "execution_count": 37,
   "id": "981ea9e5-0522-4977-8317-d820fc1dd468",
   "metadata": {},
   "outputs": [],
   "source": [
    "regexp1 = \"[0-9]+[A-Za-z]+[0-9]+[A-Za-z]+[0-9]+\""
   ]
  },
  {
   "cell_type": "markdown",
   "id": "080ffca5-4ccf-4f8d-9b70-c54ec6addc6d",
   "metadata": {},
   "source": [
    "Si on applique cette expression régulière à toute nos entrées"
   ]
  },
  {
   "cell_type": "code",
   "execution_count": 38,
   "id": "43e342d0-ee55-4b8f-9676-1adda05dca49",
   "metadata": {},
   "outputs": [
    {
     "name": "stdout",
     "output_type": "stream",
     "text": [
      "890hj000nnm890   → <re.Match object; span=(0, 14), match='890hj000nnm890'>\n",
      "123abc456def789  → <re.Match object; span=(0, 15), match='123abc456def789'>\n",
      "8090abababab879  → None\n"
     ]
    }
   ],
   "source": [
    "for sample in samples:\n",
    "    match = re.match(regexp1, sample)\n",
    "    print(f\"{sample:16s} → {match}\")"
   ]
  },
  {
   "cell_type": "code",
   "execution_count": 39,
   "id": "fd78266c-b415-4913-b078-2353cd3cb0b9",
   "metadata": {},
   "outputs": [],
   "source": [
    "# pour simplement visualiser si on a un match ou pas\n",
    "def nice(match):\n",
    "    # le retour de re.match est soit None, soit un objet match\n",
    "    return \"no\" if match is None else \"Match!\""
   ]
  },
  {
   "cell_type": "markdown",
   "id": "6ee71250-8fc1-4fa3-9328-ec14be9f7d36",
   "metadata": {},
   "source": [
    "Avec quoi on peux refaire l'essai sur toute nos entrées."
   ]
  },
  {
   "cell_type": "code",
   "execution_count": 42,
   "id": "adcc6948-e5e1-455e-a7be-2e7cd69c0b9a",
   "metadata": {},
   "outputs": [
    {
     "name": "stdout",
     "output_type": "stream",
     "text": [
      "REGEXP=[0-9]+[A-Za-z]+[0-9]+[A-Za-z]+[0-9]+\n",
      "\n",
      "  890hj000nnm890 → Match!\n",
      " 123abc456def789 → Match!\n",
      " 8090abababab879 → no\n"
     ]
    }
   ],
   "source": [
    "# la même chose mais un peu moins encombrant\n",
    "print(f\"REGEXP={regexp1}\\n\")\n",
    "for sample in samples:\n",
    "    match = re.match(regexp1, sample)\n",
    "    print(f\"{sample:>16s} → {nice(match)}\")"
   ]
  },
  {
   "cell_type": "markdown",
   "id": "7b8fefb2-4bcd-4869-a82e-3971e0627062",
   "metadata": {},
   "source": [
    "Ici plustôt que d'utiliser les racourcis comme `\\w` j'ai préféré écrire explicitement les esembles de caractères en jeu. De cette façon, on rend son code indépendandt du LOCALE si c'est ce qu'on veux faire. Il y'a deux morceau qui interviennent tour à tour :\n",
    "* [0-9]+ signifie une suite de au moins un caractère dans l'intervalle [0-9],\n",
    "* [A-Za-z]+ pour une suite d'au moins un caractère dans l'intervalle [A-Z] ou dans l'intervalle [a-z]\n",
    "\n",
    "Et comme tout à l'heure on à simplement juxtaposé les morceaux dans le bon ordre pour construire l'expresssion régulière complète."
   ]
  },
  {
   "cell_type": "markdown",
   "id": "08e0d92d-6c9a-465b-ac56-cf70b53954ac",
   "metadata": {
    "tags": []
   },
   "source": [
    "##### Nommer un morceau (un groupe)"
   ]
  },
  {
   "cell_type": "code",
   "execution_count": 44,
   "id": "1094c596-ead6-4c0b-961a-f10a32a9cc4f",
   "metadata": {},
   "outputs": [
    {
     "data": {
      "text/plain": [
       "'123abc456def789'"
      ]
     },
     "execution_count": 44,
     "metadata": {},
     "output_type": "execute_result"
    }
   ],
   "source": [
    "# on se concentre sur une entrée correcte\n",
    "haystack = samples[1]\n",
    "haystack"
   ]
  },
  {
   "cell_type": "markdown",
   "id": "300e53e6-e1c6-49b5-9995-c965ef85bfca",
   "metadata": {},
   "source": [
    "Maintenant, on va même pouvoir **donner un nom** à un morceau de la regexp, ici on désigne par `needle` le groupe de chiffre du millieu."
   ]
  },
  {
   "cell_type": "code",
   "execution_count": 45,
   "id": "9b4d9d9f-f129-4b3f-8f2d-9269a1e8aece",
   "metadata": {},
   "outputs": [],
   "source": [
    "# la même regexp, mais on donne un nom au groupe de chiffres central\n",
    "regexp2 = \"[0-9]+[A-Za-z]+(?P<needle>[0-9]+)[A-Za-z]+[0-9]+\""
   ]
  },
  {
   "cell_type": "markdown",
   "id": "28657580-8c62-4a1c-aa5c-fd8c5e6e9fc6",
   "metadata": {},
   "source": [
    "Une fois que c'est fait, on peux demander à l'outil de nous **retrouver la partie correspondantes** dans la chaine initiale:"
   ]
  },
  {
   "cell_type": "code",
   "execution_count": 46,
   "id": "e5e4f782-5e0e-4f5f-adac-e2c8d04f2387",
   "metadata": {},
   "outputs": [
    {
     "name": "stdout",
     "output_type": "stream",
     "text": [
      "<class 'str'>\n"
     ]
    }
   ],
   "source": [
    "print(type(re.match(regexp2, haystack).group('needle')))"
   ]
  },
  {
   "cell_type": "markdown",
   "id": "87069749-00c4-4dac-8fc6-553915a6deb4",
   "metadata": {},
   "source": [
    "Dans cette expression on à utilisé un **groupe nommé** `(?P<needle>[0-9]+)`, dans lequel :\n",
    "* les parenthèses définissent un groupe,\n",
    "* `?P<needle>` spécifie que ce groupe pourra être référencé sous le nom `needle` (cette synthaxe très absconse est héritée semble-t-il de perl)."
   ]
  },
  {
   "cell_type": "markdown",
   "id": "8a129449-1fb4-48a0-93bf-b3cd866ded1c",
   "metadata": {},
   "source": [
    "### Un troisième exemple"
   ]
  },
  {
   "cell_type": "markdown",
   "id": "4c85cbc8-0b8d-4611-9ab2-772203395c35",
   "metadata": {},
   "source": [
    "Enfin c'est un trait qui n'est pas présent dans tous les languages, on peux restreindre un morceau de chaîne à être identique à un groupe déjà vue plus tôt dans le chaîne. Dans l'exemple ci-dessus, on pourrait ajouter comme contrainte que le premier et le dernier groupes de chiffres soieent identiques, comme ceci"
   ]
  },
  {
   "cell_type": "code",
   "execution_count": 48,
   "id": "a7712eef-4ec0-4e90-82f2-9c95c5bb8474",
   "metadata": {},
   "outputs": [],
   "source": [
    "regexp3 = \"(?P<id>[0-9]+)[A-Za-z]+(?P<needle>[0-9]+)[A-Za-z]+(?P=id)\""
   ]
  },
  {
   "cell_type": "markdown",
   "id": "fe52034a-695b-41d8-920f-5d62eda8fda9",
   "metadata": {},
   "source": [
    "Si bien que maintenant avec les même entrées que tout à l'heure"
   ]
  },
  {
   "cell_type": "code",
   "execution_count": 49,
   "id": "22b2934c-7ce0-425c-b76e-87f263f20d71",
   "metadata": {},
   "outputs": [
    {
     "name": "stdout",
     "output_type": "stream",
     "text": [
      "REGEXP=(?P<id>[0-9]+)[A-Za-z]+(?P<needle>[0-9]+)[A-Za-z]+(?P=id)\n",
      "\n",
      "  890hj000nnm890 → Match!\n",
      " 123abc456def789 → no\n",
      " 8090abababab879 → no\n"
     ]
    }
   ],
   "source": [
    "print(f\"REGEXP={regexp3}\\n\")\n",
    "for sample in samples:\n",
    "    match = re.match(regexp3, sample)\n",
    "    print(f\"{sample:>16s} → {nice(match)}\")"
   ]
  },
  {
   "cell_type": "markdown",
   "id": "5ea2b8ec-5b4c-4e65-960a-fa010a42be82",
   "metadata": {},
   "source": [
    "Comme précédement on a défini le groupe nommé `id` comme étant la première suite de chiffres. La nouveauté ici est la **contrainte** qu'on a imposée sur le dernier groupe avec `(?P=id)`. Comme vous le voyez, on n'obtient un *match* qu'avec les entrées dans lesquelles le dernier groupe de chiffres est identique au premier."
   ]
  },
  {
   "cell_type": "markdown",
   "id": "0f6f998a-417e-4e68-a007-a7170b5a0982",
   "metadata": {},
   "source": [
    "### Comment utiliser la librairie - Compilation des expressions régulières"
   ]
  },
  {
   "cell_type": "markdown",
   "id": "077287d7-e8d6-4a1e-a3ef-2407f20e8103",
   "metadata": {},
   "source": [
    "Avant d'apprendre à écrire une expression régulière, disons quelque mots du mode d'emploi de la librairie."
   ]
  },
  {
   "cell_type": "markdown",
   "id": "84820b59-1439-409f-9bd1-e85cb1f2bd8d",
   "metadata": {},
   "source": [
    "##### Fonctions de commodité et *workflow*"
   ]
  },
  {
   "cell_type": "markdown",
   "id": "839b1946-c92a-47cd-b623-1af486490e53",
   "metadata": {},
   "source": [
    "Comme vous le savez peut-être, une expression régulière décrite sous la forme de chaîne,  comme par exemple `\"\\w*[am]\\W\"`, peux être traduite dans un **automate fini** qui permet de faire le filtrage avec une chaîne. C'est ce qui explique le *workflow* que nous avons résumé dans cette figure.\n",
    "\n",
    "<img src=\"media/re-workflow.png\">"
   ]
  },
  {
   "cell_type": "markdown",
   "id": "798dca93-9240-4668-92b7-718950506ec2",
   "metadata": {},
   "source": [
    "La méthode recommandée pour utiliser la librairie, lorsque vous avez le même *pattern* à appliquer à un grand nombre de chaînes, est de:\n",
    "* Compiler **une seule fois** votre chaîne avec un atomate, qui est matérialiser par un object de classe `re.RegexObject`, en utilisant `re.compile`,\n",
    "* puis d'**utiliser directement cet object** autant de fois que vous avez de chaîne."
   ]
  },
  {
   "cell_type": "markdown",
   "id": "75ab2968-4db1-414a-973b-78b327ceaa56",
   "metadata": {},
   "source": [
    "Nous avons utilisé dans les exemples plus haut (et nous continuerons plus bas pour une meilleure lisiblilité) des **fonctions de commodité** du module, qui sont pratiques, par exemple, pour mettre au point une expression réguliière en mode intéractif, mais qui ne **sont pas forcément** adaptées dans tous les cas.\n",
    "\n",
    "Ces fonctions de commodité fonctionnent toutes sur le même principe :\n",
    "\n",
    "`re.match(regexp, sample)` $\\Longleftrightarrow$ `re.compile(regexp).match(sample)`\n",
    "\n",
    "Donc à chaue fois qu'on utilise une fonction de commodité, on recompile la chaine en automate, ce qui, dès qu'on a plus de chaîne à traiter, represente un surcoût."
   ]
  },
  {
   "cell_type": "code",
   "execution_count": null,
   "id": "8870421c-5f84-4b4d-a8e8-8090d90f0f27",
   "metadata": {},
   "outputs": [
    {
     "name": "stdout",
     "output_type": "stream",
     "text": [
      "  890hj000nnm890 → Match!\n",
      " 123abc456def789 → no\n",
      " 8090abababab879 → no\n"
     ]
    }
   ],
   "source": [
    "# au lieu de faire comme ci-dessus:\n",
    "\n",
    "# imaginez 10**6 chaînes dans samples\n",
    "for sample in samples:\n",
    "    match = re.match(regexp3, sample)\n",
    "    print(f\"{sample:>16s} → {nice(match)}\")"
   ]
  },
  {
   "cell_type": "code",
   "execution_count": 51,
   "id": "8dc71f84-74bd-4ee4-be2f-52ddff154fda",
   "metadata": {},
   "outputs": [
    {
     "name": "stdout",
     "output_type": "stream",
     "text": [
      "  890hj000nnm890 → Match!\n",
      " 123abc456def789 → no\n",
      " 8090abababab879 → no\n"
     ]
    }
   ],
   "source": [
    "# dans du vrai code on fera plutôt:\n",
    "\n",
    "# on compile la chaîne en automate une seule fois\n",
    "re_obj3 = re.compile(regexp3)\n",
    "\n",
    "# ensuite on part directement de l'automate\n",
    "for sample in samples:\n",
    "    match = re_obj3.match(sample)\n",
    "    print(f\"{sample:>16s} → {nice(match)}\")"
   ]
  },
  {
   "cell_type": "markdown",
   "id": "52b6f7ce-a4ea-45f6-8890-3342d0ad54eb",
   "metadata": {},
   "source": [
    "Cette deuxième version ne compile qu'une fois la chaîne en automate, et donc est plus efficace."
   ]
  },
  {
   "cell_type": "markdown",
   "id": "369b38ef-02ee-4fff-a2cb-5526e28ac7ec",
   "metadata": {},
   "source": [
    "##### Les méthodes sur la classe `RegexObject`"
   ]
  },
  {
   "cell_type": "markdown",
   "id": "6878d419-6407-4a11-87c8-e0f7cc6731fa",
   "metadata": {},
   "source": [
    "Les objets de la classe `RegexObject` representent donc l'automate à étart fini qui est le résultat de la compilation de l'expression régulière. Pour résumer ce qu'on a déjà vu, les méthodes les plus utiles suur un objet `RegexObjet` sont:\n",
    "* `match` et `search`, qui cherche soit uniquement au début(`match`) ou n'importe où dans la chaîne (`search`),\n",
    "* `findall` et `split` pour chercher toutes les occurences `findall` ou leur néatif (`split`),\n",
    "* `sub` (qui aurait pu sans doute s'appelet `replace`, mais c'est comme ça) pour remplacer les occurences de pattern."
   ]
  },
  {
   "cell_type": "markdown",
   "id": "8eab7b10-f492-493c-a60f-5cc14e9a706c",
   "metadata": {},
   "source": [
    "##### Exploiter le résultat"
   ]
  },
  {
   "cell_type": "markdown",
   "id": "75020ba8-d9aa-4dc5-9a49-629a411b3ad1",
   "metadata": {},
   "source": [
    "Les **méthodes** disponibles sur la classe `re.MatchObject` sont [documentées en détail ici](https://docs.python.org/3/library/re.html#match-objects). On en a déjà rencontré quelques-unes, en voici à nouveau un aperçu rapide."
   ]
  },
  {
   "cell_type": "code",
   "execution_count": 64,
   "id": "bd2fb2ec-4d0c-49c8-8898-f646d2e1dc0c",
   "metadata": {},
   "outputs": [],
   "source": [
    "# exemple\n",
    "sample = \"     Isaac Newton, physicist\"\n",
    "match = re.search(r\"(\\w+) (?P<name>\\w+)\", sample)"
   ]
  },
  {
   "cell_type": "markdown",
   "id": "0716af3c-d9dd-4e48-a722-8f772bd8b5a8",
   "metadata": {},
   "source": [
    "`re` et `string` pour retrouvver les données d'entrée du match. "
   ]
  },
  {
   "cell_type": "code",
   "execution_count": 65,
   "id": "ab7d1752-a175-492e-8349-1d929e3ecfea",
   "metadata": {},
   "outputs": [
    {
     "data": {
      "text/plain": [
       "'     Isaac Newton, physicist'"
      ]
     },
     "execution_count": 65,
     "metadata": {},
     "output_type": "execute_result"
    }
   ],
   "source": [
    "match.string"
   ]
  },
  {
   "cell_type": "code",
   "execution_count": 66,
   "id": "80e7df1f-b9c5-45dc-b82d-395be953f13d",
   "metadata": {},
   "outputs": [
    {
     "data": {
      "text/plain": [
       "re.compile(r'(\\w+) (?P<name>\\w+)', re.UNICODE)"
      ]
     },
     "execution_count": 66,
     "metadata": {},
     "output_type": "execute_result"
    }
   ],
   "source": [
    "match.re"
   ]
  },
  {
   "cell_type": "markdown",
   "id": "715c5a19-46dc-4f40-85e6-3311c39413f0",
   "metadata": {},
   "source": [
    "`group`, `groups`, `groupdict` pour retrouver les morceaux de la chaîne d'entrée qui correspondent aux **groupes** de la regexp. On peux y accéder par rang, ou par un nom (comme on l'a vu plus haut avec `needle` )."
   ]
  },
  {
   "cell_type": "code",
   "execution_count": 67,
   "id": "9b2d2849-4998-4136-8e0a-b4b235b57c07",
   "metadata": {},
   "outputs": [
    {
     "data": {
      "text/plain": [
       "('Isaac', 'Newton')"
      ]
     },
     "execution_count": 67,
     "metadata": {},
     "output_type": "execute_result"
    }
   ],
   "source": [
    "match.groups()"
   ]
  },
  {
   "cell_type": "code",
   "execution_count": 68,
   "id": "57992523-3d75-4232-9a1b-61c302c8fc41",
   "metadata": {},
   "outputs": [
    {
     "data": {
      "text/plain": [
       "'Isaac'"
      ]
     },
     "execution_count": 68,
     "metadata": {},
     "output_type": "execute_result"
    }
   ],
   "source": [
    "match.group(1)"
   ]
  },
  {
   "cell_type": "code",
   "execution_count": 69,
   "id": "dff15dcf-c4e8-4c9c-932f-e9d37b93e277",
   "metadata": {},
   "outputs": [
    {
     "data": {
      "text/plain": [
       "'Newton'"
      ]
     },
     "execution_count": 69,
     "metadata": {},
     "output_type": "execute_result"
    }
   ],
   "source": [
    "match.group('name')"
   ]
  },
  {
   "cell_type": "code",
   "execution_count": 70,
   "id": "6928984d-1c98-4f8c-b6e1-0d9c11c1a076",
   "metadata": {},
   "outputs": [
    {
     "data": {
      "text/plain": [
       "'Newton'"
      ]
     },
     "execution_count": 70,
     "metadata": {},
     "output_type": "execute_result"
    }
   ],
   "source": [
    "match.group(2)"
   ]
  },
  {
   "cell_type": "code",
   "execution_count": 71,
   "id": "763e6c78-e537-459b-9a7d-1b3c9d26e5a8",
   "metadata": {},
   "outputs": [
    {
     "data": {
      "text/plain": [
       "{'name': 'Newton'}"
      ]
     },
     "execution_count": 71,
     "metadata": {},
     "output_type": "execute_result"
    }
   ],
   "source": [
    "match.groupdict()"
   ]
  },
  {
   "cell_type": "markdown",
   "id": "4c7db3bf-e723-4ad5-a96e-7e450329b037",
   "metadata": {},
   "source": [
    "Comme on le voit ppour l'accès par rang **les indices commencent à 1** pour des raisons historiques (on peux déjà référencer `\\1` en sed depuis la fin des années 70).\n",
    "\n",
    "On peux aussi accéder au **groupe 0** comme étant la partie de la chaînne de départ qui a effectivement été filtrée par l'expression régulière, et qui peux tout àfait être au beau milleu de la chaîne de départ, comme dans nôtre exemple"
   ]
  },
  {
   "cell_type": "code",
   "execution_count": 72,
   "id": "3963b709-a6cd-4aad-8018-e1ab082a8f86",
   "metadata": {},
   "outputs": [
    {
     "data": {
      "text/plain": [
       "'Isaac Newton'"
      ]
     },
     "execution_count": 72,
     "metadata": {},
     "output_type": "execute_result"
    }
   ],
   "source": [
    "match.group(0)"
   ]
  },
  {
   "cell_type": "markdown",
   "id": "651f4ce6-78a3-4436-b2b0-7855df48380f",
   "metadata": {},
   "source": [
    "`expand` permeet de faire une espèce de `str.format` avec les valeurs des groupes."
   ]
  },
  {
   "cell_type": "code",
   "execution_count": 76,
   "id": "ccd11d46-4d81-4568-abde-94df9c255445",
   "metadata": {},
   "outputs": [
    {
     "data": {
      "text/plain": [
       "'last_name Newton first_name Isaac'"
      ]
     },
     "execution_count": 76,
     "metadata": {},
     "output_type": "execute_result"
    }
   ],
   "source": [
    "match.expand(r\"last_name \\g<name> first_name \\1\")"
   ]
  },
  {
   "cell_type": "markdown",
   "id": "dca975ee-a477-4302-804c-0ff1bb211a97",
   "metadata": {},
   "source": [
    "`span` pour connaître les index dans la chaîne d'entrée pour un groupe donné."
   ]
  },
  {
   "cell_type": "code",
   "execution_count": 81,
   "id": "e49297ed-5d2c-4219-934d-17d6fdef86c4",
   "metadata": {},
   "outputs": [
    {
     "data": {
      "text/plain": [
       "'Newton'"
      ]
     },
     "execution_count": 81,
     "metadata": {},
     "output_type": "execute_result"
    }
   ],
   "source": [
    "# NB: seq[i:j] est une opération de slicing que nous verrons plus tard\n",
    "# Elle retourne une séquence contenant les éléments de i à j-1 de seq\n",
    "begin, end = match.span('name')\n",
    "sample[begin:end]"
   ]
  },
  {
   "cell_type": "markdown",
   "id": "768d941c-a53a-45ca-947b-4fbece5bc37e",
   "metadata": {},
   "source": [
    "##### Les différents modes (*flags*)"
   ]
  },
  {
   "cell_type": "markdown",
   "id": "2c2c1b38-a295-49b3-b8a1-457076206725",
   "metadata": {},
   "source": [
    "Enfin il faut noter qu'on peux passer à `re.compile`un certain nombre de *flags* qui modifient globalement l'interprétation de la chaîne, et qui peuvent rendre service."
   ]
  },
  {
   "cell_type": "markdown",
   "id": "618766cf-d78a-402a-a124-4eb4f1f7a120",
   "metadata": {},
   "source": [
    "Vous trouverez [une liste exhautive de ces flags ici](https://docs.python.org/3/library/re.html#module-contents). Ils ont en général un nom long et parlant, et un alias court sur un seul caractère. Les plus utiles cont sans doute :\n",
    "* `IGNORECASE` (alias `I` ) pour , eh bien, ne pas faire la différence entre minuscules et majuscules,\n",
    "* `UNICODE` (alias `U`) pour rendre les séquences `\\w` et autres basées sur les propriétés des caractères dans la norma Unicode,\n",
    "* `LOCALE` (alias `L`) cette fois \\w dépend du `locale` courant,\n",
    "* `MULTILINE` (alias `M`), et\n",
    "* `DOTLINE` (alias `S`) - pour ces deux derniers flags, voir la discussion à la fin du notebook."
   ]
  },
  {
   "cell_type": "markdown",
   "id": "59c87aba-c53b-4b6a-b9b3-23b39c1bc465",
   "metadata": {},
   "source": [
    "Comme c'est souvent le cas, on doit passer à `re.compile` un **ou logique** (caractère `|`) des différents flags que l'on veux uutiliser, c'est-à-dire qu'on fera par exemple"
   ]
  },
  {
   "cell_type": "code",
   "execution_count": 82,
   "id": "5d2124f3-499f-44c2-8166-82aa19bfd52b",
   "metadata": {},
   "outputs": [
    {
     "name": "stdout",
     "output_type": "stream",
     "text": [
      "MAX_REPEAT 0 MAXREPEAT\n",
      "  LITERAL 97\n",
      "MAX_REPEAT 1 MAXREPEAT\n",
      "  LITERAL 98\n",
      "\n",
      " 0. INFO 4 0b0 1 MAXREPEAT (to 5)\n",
      " 5: REPEAT_ONE 6 0 MAXREPEAT (to 12)\n",
      " 9.   LITERAL_UNI_IGNORE 0x61 ('a')\n",
      "11.   SUCCESS\n",
      "12: REPEAT_ONE 6 1 MAXREPEAT (to 19)\n",
      "16.   LITERAL_UNI_IGNORE 0x62 ('b')\n",
      "18.   SUCCESS\n",
      "19: SUCCESS\n"
     ]
    }
   ],
   "source": [
    "regexp = \"a*b+\"\n",
    "re_obj = re.compile(regexp, flags=re.IGNORECASE | re.DEBUG)"
   ]
  },
  {
   "cell_type": "code",
   "execution_count": 83,
   "id": "8840dfc8-29d8-4294-b2f2-0c8a90002742",
   "metadata": {},
   "outputs": [
    {
     "name": "stdout",
     "output_type": "stream",
     "text": [
      "a*b+ -> Match!\n"
     ]
    }
   ],
   "source": [
    "# on ignore la casse des caractères \n",
    "print(regexp, \"->\", nice(re_obj.match(\"AabB\")))"
   ]
  },
  {
   "cell_type": "markdown",
   "id": "73cde64d-e1f8-4842-a182-86b010980c47",
   "metadata": {},
   "source": [
    "### Comment construire une expression régulière"
   ]
  },
  {
   "cell_type": "markdown",
   "id": "b76ba658-a90a-46e3-a250-dacf83b333d2",
   "metadata": {},
   "source": [
    "Nous pouvons à présent voir comment construire une expression régulière =, en essayant de tester synthétique (la [documentation du modules`re`](https://docs.python.org/3/library/re.html) en donne une version exhautive)."
   ]
  },
  {
   "cell_type": "markdown",
   "id": "f204ea21-eab8-47a5-9642-ed1a24df08b8",
   "metadata": {},
   "source": [
    "##### La brique de base : le caractère"
   ]
  },
  {
   "cell_type": "markdown",
   "id": "7a35f7f9-9b14-44d9-a355-32a34a38a0a6",
   "metadata": {},
   "source": [
    "Au commencement il faut spécifier les caractères\n",
    "* **un seul** caractère:\n",
    "    * vous le citez tel quel, en le précédent d'un backslash `\\` s'il a par ailleurs un sens spécial dans le micro-language de reguexps (comme +, *, \\[, etc.);\n",
    "* **l'attrape-tout** (*wilcard*):\n",
    "    * un point `.` signifie \"n'importe quel caractère\";\n",
    "* **un ensemble** de caractères avec la notation `[..]` qui permet de décrire par exemple:\n",
    "    * `[a1=]` un exemple in extenso, ici un caractère parmi `a`, `1`, ou `=`,\n",
    "    * `[a-z]` un intervalle de caractères, ici de `a` à `z`,\n",
    "    * `[15e-g]` un mélange des deux, ici un ensemble qui contiendrait `1`, `5`, `e`, `f` et `g`,\n",
    "    * `[15e-g]` une **négation**, qui a `^` comme premier caractère dasn les `[]`, ici tout sauf l'ensemble précédent;\n",
    "* un **ensemble prédéfini** de caractères, qui peuvent alors dépendre de l'environnement (UNICODE et LOCALE) avec entre autres les notations:\n",
    "    * `\\w` les caractères alphanumériques, et `\\W` (les autres),\n",
    "    * `\\s` les caractères \"blancs\" - espace, tabulation, saut de ligne, etc., et `\\S` (les autres),\n",
    "    * `\\d` pour les chiffres, et `\\D` (les autres)."
   ]
  },
  {
   "cell_type": "code",
   "execution_count": 84,
   "id": "9002007d-b906-4f31-9ced-a2b65061e6cd",
   "metadata": {},
   "outputs": [
    {
     "name": "stdout",
     "output_type": "stream",
     "text": [
      "abcd / abcd       → Match!\n",
      "abcd / ab[cd][cd] → Match!\n",
      "abcd / ab[a-z]d   → Match!\n",
      "abcd / abc.       → Match!\n",
      "abcd / abc\\.      → no\n"
     ]
    }
   ],
   "source": [
    "sample = \"abcd\"\n",
    "import re\n",
    "for regexp in ['abcd', 'ab[cd][cd]', 'ab[a-z]d', r'abc.', r'abc\\.']:\n",
    "    match = re.match(regexp, sample)\n",
    "    print(f\"{sample} / {regexp:<10s} → {nice(match)}\")"
   ]
  },
  {
   "cell_type": "markdown",
   "id": "38847802-c87e-4a26-b1cc-0c14dfcbd958",
   "metadata": {},
   "source": [
    "Pour ce denier exemples, comme on a backslashé le `.` il faut que la chaîne en entrée contiènne vraiment un `.`"
   ]
  },
  {
   "cell_type": "code",
   "execution_count": 85,
   "id": "3bf1dc6c-7b80-450f-9587-c1086489b24a",
   "metadata": {},
   "outputs": [
    {
     "name": "stdout",
     "output_type": "stream",
     "text": [
      "Match!\n"
     ]
    }
   ],
   "source": [
    "print(nice(re.match (r\"abc\\.\", \"abc.\")))"
   ]
  },
  {
   "cell_type": "markdown",
   "id": "8774e845-e178-48b9-8474-1e225f011921",
   "metadata": {},
   "source": [
    "##### En série ou en parallèle"
   ]
  },
  {
   "cell_type": "markdown",
   "id": "d3bae1ba-80c1-4925-8bd8-11f2cf5e461e",
   "metadata": {},
   "source": [
    "Si je fais une analogie avec les montagnes éléctriques, jusqu'ici on a vu le montage en série, on mets des expressions régulières bout à bout qui filtrent (`match`) la chaîne en entrée sequentiellement du début à la fin. On a *un peu* de marge pour spécifier des alternatives, lorsqu'on fait par exemple\n",
    "```\n",
    "\"abc[cd]ef\"\n",
    "```\n",
    "mais c'est limité à *un seul* caractère. Si on veux reconnaitre deux mots qui n'ont pas grand-chose à voir comme `abc` *ou* `def`, if faut en quelque sorte mettre deux regexps en parallèle, et c'est ce que permet l'opérateur `|`"
   ]
  },
  {
   "cell_type": "code",
   "execution_count": 86,
   "id": "531dc874-872a-4fe8-bd49-deb6a087a759",
   "metadata": {},
   "outputs": [
    {
     "name": "stdout",
     "output_type": "stream",
     "text": [
      "abc / abc|def → Match!\n",
      "def / abc|def → Match!\n",
      "aef / abc|def → no\n"
     ]
    }
   ],
   "source": [
    "regexp = \"abc|def\"\n",
    "\n",
    "for sample in ['abc', 'def', 'aef']:\n",
    "    match = re.match(regexp, sample)\n",
    "    print(f\"{sample} / {regexp} → {nice(match)}\")"
   ]
  },
  {
   "cell_type": "markdown",
   "id": "c0776742-edda-4577-b5e1-143f9d7fe173",
   "metadata": {},
   "source": [
    "##### Fin(s) de chaîne"
   ]
  },
  {
   "cell_type": "markdown",
   "id": "011a1596-327c-4371-a67b-f4965d48d47e",
   "metadata": {},
   "source": [
    "Selon que vous utilisez `match` ou `search`, vous précisez si vous vous intéressez uniquemnet à un match en début (`match`) ou en'importe où (`search`) dans la chaîne.\n",
    "\n",
    "Mais indépendamment de cela, il peut être intéressant de \"coller\" l'expression en début ou en fin de ligne, et pour ça il existe des caractères spéciaux:\n",
    "* `^` lorsqu'il est utilisé comme un caractère (c'est à dire pas en début de `[]`) signifie dun début de chaîne;\n",
    "* `\\A` a le même sent (sauf en mode MULTILINE), et je le recommande de préférence à `^` qui est déjà pas mal surchargé;\n",
    "* `$` matche une fin de ligne;\n",
    "* `\\Z` est voisin de `$` mais pas tout a fait identique.\n",
    "\n",
    "Reportez-vous à la documentation pour le détails des différences. Attention aussi à entrer le `^` correctement, il vous faut le caractère ASCII et non un voisin dans la ménagerie Unicode."
   ]
  },
  {
   "cell_type": "code",
   "execution_count": 87,
   "id": "d7e0c33a-1e2f-40d3-aeed-bf9ddf04bc94",
   "metadata": {},
   "outputs": [
    {
     "name": "stdout",
     "output_type": "stream",
     "text": [
      "abcd / bc    match → no       , search → Match!\n",
      "abcd / \\Aabc match → Match!   , search → Match!\n",
      "abcd / ^abc  match → Match!   , search → Match!\n",
      "abcd / \\Abc  match → no       , search → no\n",
      "abcd / ^bc   match → no       , search → no\n",
      "abcd / bcd\\Z match → no       , search → Match!\n",
      "abcd / bcd$  match → no       , search → Match!\n",
      "abcd / bc\\Z  match → no       , search → no\n",
      "abcd / bc$   match → no       , search → no\n"
     ]
    }
   ],
   "source": [
    "sample = 'abcd'\n",
    "\n",
    "for regexp in [ r'bc', r'\\Aabc', r'^abc', \n",
    "                r'\\Abc', r'^bc', r'bcd\\Z', \n",
    "                r'bcd$', r'bc\\Z', r'bc$' ]:\n",
    "    match = re.match(regexp, sample)\n",
    "    search = re.search(regexp, sample)\n",
    "    print(f\"{sample} / {regexp:5s} match → {nice(match):9s},\"\n",
    "          f\" search → {nice(search)}\")"
   ]
  },
  {
   "cell_type": "markdown",
   "id": "f1f2e948-0670-41e8-abef-108b8c6506fc",
   "metadata": {},
   "source": [
    "On a en effet bien lepattern `bc` dans la chaîne en entrée, mais il n'est ni au début ni à la fin."
   ]
  },
  {
   "cell_type": "markdown",
   "id": "00f431e6-f6dc-44fe-811c-10810c6287ca",
   "metadata": {},
   "source": [
    "##### Parenthéser - (grouper)"
   ]
  },
  {
   "cell_type": "markdown",
   "id": "8640f592-2945-4bd1-b280-307b48e6771e",
   "metadata": {},
   "source": [
    "Pour pouvoir faire des montages élaborés, il faut pouvoir parenthéser."
   ]
  },
  {
   "cell_type": "code",
   "execution_count": 89,
   "id": "60221a56-5e9a-492b-bbb4-263d3c92cbcf",
   "metadata": {},
   "outputs": [],
   "source": [
    "# une parenthése dans une RE \n",
    "# pour mettre en ligne:\n",
    "# un début 'a', \n",
    "# un milieu 'bc' ou 'de' \n",
    "# et une fin 'f'\n",
    "regexp = \"a(bc|de)f\""
   ]
  },
  {
   "cell_type": "markdown",
   "id": "fa2d5d13-03d5-4df1-a492-5d8575a6fda4",
   "metadata": {},
   "source": [
    "<img src='media/re-serie-parallele.png'>"
   ]
  },
  {
   "cell_type": "code",
   "execution_count": 91,
   "id": "7bcd5cbd-66e5-4f9a-9a0d-4cfdc6e3f487",
   "metadata": {},
   "outputs": [
    {
     "name": "stdout",
     "output_type": "stream",
     "text": [
      "abcf → Match!\n",
      "adef → Match!\n",
      "abef → no\n",
      " abf → no\n"
     ]
    }
   ],
   "source": [
    "for sample in ['abcf', 'adef', 'abef', 'abf']:\n",
    "    match = re.match(regexp, sample) \n",
    "    print(f\"{sample:>4s} → {nice(match)}\")"
   ]
  },
  {
   "cell_type": "markdown",
   "id": "09e7ca2f-5d18-4909-a580-777c22023d2b",
   "metadata": {},
   "source": [
    "Les parenthèses jouent un rôle additionel de **groupe**, ce qui signifie qu'on **peux retrouver** le texte correspondant à l'expression régulière comprise dasn les `()`. Par exemple, pour le premier match"
   ]
  },
  {
   "cell_type": "code",
   "execution_count": 92,
   "id": "d0df6cb0-8819-46b1-b2f5-6898292ee02b",
   "metadata": {},
   "outputs": [
    {
     "name": "stdout",
     "output_type": "stream",
     "text": [
      "abcf, a(bc|de)f → ('bc',)\n"
     ]
    }
   ],
   "source": [
    "sample = 'abcf'\n",
    "match = re.match(regexp, sample)\n",
    "print(f\"{sample}, {regexp} → {match.groups()}\")"
   ]
  },
  {
   "cell_type": "markdown",
   "id": "54aed339-6803-452b-803d-6925f0d7be1c",
   "metadata": {},
   "source": [
    "dans cette exemple, on n'a utilisé qu'un seul groupe `()`, et le morceau de chaîne qui correspond à ce groupe se trouve donc être la seul groupe retourné par `MatchObject.groups`"
   ]
  },
  {
   "cell_type": "markdown",
   "id": "243a6304-1d39-4761-b754-7dece38c2646",
   "metadata": {},
   "source": [
    "##### Compter les répétitions"
   ]
  },
  {
   "cell_type": "markdown",
   "id": "0b46a202-6aab-4251-86a2-67169ba0eec9",
   "metadata": {},
   "source": [
    "Vous disposez des opérateur suivants : \n",
    "* `*` l'étoile qui signifie n'importe quel nombre, même nul, d'occurrence - par exemple, (ab)* pour indiquer `'` ou `ab` ou `abab` ou etc.,\n",
    "* `+` le plus qui signifie au moins une occurrence - e.g. `(ab)+` pour `ab` ou `abab` ou etc,\n",
    "* `?` qui indique une option, c'est-a-dire 0 ou 1 occurence -autrement dit `(ab)?` matche `''` ou `ab`,\n",
    "* `{n}`pour exactement n occurrences de `(ab)`- e.g. `(ab){3}` qui serait exactement équivalent à `ababab`,\n",
    "* `{m,n}` entre m et n fois exclusivement."
   ]
  },
  {
   "cell_type": "code",
   "execution_count": 93,
   "id": "d370db1f-36c7-46ec-89ca-c5e93d6b5af7",
   "metadata": {},
   "outputs": [
    {
     "name": "stdout",
     "output_type": "stream",
     "text": [
      "         / \\A(ab)*\\Z      → Match!\n",
      "      ab / \\A(ab)*\\Z      → Match!\n",
      "  ababab / \\A(ab)*\\Z      → Match!\n",
      "abababab / \\A(ab)*\\Z      → Match!\n",
      "    baba / \\A(ab)*\\Z      → no\n",
      "         / \\A(ab)+\\Z      → no\n",
      "      ab / \\A(ab)+\\Z      → Match!\n",
      "  ababab / \\A(ab)+\\Z      → Match!\n",
      "abababab / \\A(ab)+\\Z      → Match!\n",
      "    baba / \\A(ab)+\\Z      → no\n",
      "         / \\A(ab){3}\\Z    → no\n",
      "      ab / \\A(ab){3}\\Z    → no\n",
      "  ababab / \\A(ab){3}\\Z    → Match!\n",
      "abababab / \\A(ab){3}\\Z    → no\n",
      "    baba / \\A(ab){3}\\Z    → no\n",
      "         / \\A(ab){3,4}\\Z  → no\n",
      "      ab / \\A(ab){3,4}\\Z  → no\n",
      "  ababab / \\A(ab){3,4}\\Z  → Match!\n",
      "abababab / \\A(ab){3,4}\\Z  → Match!\n",
      "    baba / \\A(ab){3,4}\\Z  → no\n"
     ]
    }
   ],
   "source": [
    "# NB: la construction\n",
    "#   [op(elt) for elt in iterable] \n",
    "# est une compréhension de liste que nous étudierons plus tard.\n",
    "# Elle retourne une liste contenant les résultats\n",
    "# de l'opération op sur chaque élément de la liste de départ\n",
    "\n",
    "samples = [n*'ab' for n in [0, 1, 3, 4]] + ['baba']\n",
    "\n",
    "for regexp in ['(ab)*', '(ab)+', '(ab){3}', '(ab){3,4}']:\n",
    "    # on ajoute \\A \\Z pour matcher toute la chaine\n",
    "    line_regexp = r\"\\A{}\\Z\".format(regexp)\n",
    "    for sample in samples:\n",
    "        match = re.match(line_regexp, sample)\n",
    "        print(f\"{sample:>8s} / {line_regexp:14s} → {nice(match)}\")"
   ]
  },
  {
   "cell_type": "markdown",
   "id": "9fd52603-05bc-4041-ba25-8cfa49005e33",
   "metadata": {},
   "source": [
    "##### Groupes et contraintes"
   ]
  },
  {
   "cell_type": "markdown",
   "id": "d66f84c8-0e17-4e12-946c-c99a2e1a3ed9",
   "metadata": {},
   "source": [
    "Nous avons déjà vu un exemple de groupe nommé (voir `needle`plus haut), les opérateurs que l'onpeux citer dans cette catégorie sont :\n",
    "* `(...)` les parenthèses définissent un groupe anonyme,\n",
    "* `(?P<name>...)` définit un groupe nommé,\n",
    "* `(?:...)` permet de mettre des parenthèses mais sans créer un groupe, pour optimiser l'exécution puisqu'on n'a pas besoin de conserver les liens vers la chaîne d'entrée,\n",
    "* `(?P=name)` qui ne matche que si l'on retrouve à cet endroit de l'entrée la même sous-chaîne que celle trouvée pour le groupe name amont,\n",
    "* enfin `(?=...)`, `(?!...)` et `(?<=...)` permettent des contrainte encore plus élaborées, nous vous laissons le soin d'expérimentet avec elles si vous êtes intéressé; sachez toutefois que l'utilisation de telles constructions peux en théorie rendre l'interpretation de votre ewpression régulière beaucoup moins efficace."
   ]
  },
  {
   "cell_type": "markdown",
   "id": "d5186ec4-3667-417d-b684-b70463d05b76",
   "metadata": {},
   "source": [
    "##### Greedy *vs* non-greedy"
   ]
  },
  {
   "cell_type": "markdown",
   "id": "6ff60093-f462-4e6d-9805-a5b471a1fb11",
   "metadata": {},
   "source": [
    "Lorsqu'on stipule une répétition un nombre indéfinie de fois, il se peux qu'il existe **plusieurs** façons de filtrer l'entrées avec l'expression régulière. Que ce soit avec `*`, ou `+`, l'algorithme va toujours essayer de trouver la **séquence la plus longue**, c'est pourquoi on qualifie l'approche de *greedly* - quelque chose comme glouton en français."
   ]
  },
  {
   "cell_type": "code",
   "execution_count": 94,
   "id": "fcd03229-402e-485f-b9bc-4aaf55b85854",
   "metadata": {},
   "outputs": [
    {
     "data": {
      "text/plain": [
       "'<h1>Title</h1>'"
      ]
     },
     "execution_count": 94,
     "metadata": {},
     "output_type": "execute_result"
    }
   ],
   "source": [
    "# un fragment d'HTML \n",
    "line='<h1>Title</h1>'\n",
    "\n",
    "# si on cherche un texte quelconque entre crochets\n",
    "# c'est-à-dire l'expression régulière \"<.*>\"\n",
    "re_greedy = '<.*>'\n",
    "\n",
    "# on obtient ceci\n",
    "# on rappelle que group(0) montre la partie du fragment\n",
    "# HTML qui matche l'expression régulière\n",
    "match = re.match(re_greedy, line)\n",
    "match.group(0)"
   ]
  },
  {
   "cell_type": "markdown",
   "id": "a6558238-7622-4bd5-ba58-8af019f50c31",
   "metadata": {},
   "source": [
    "Ce n'est pas forcément ce qu'on voulais faire, aussi on peux spécifier l'approche inverse, c'est-à-dire de trouver la **la plus petite** chaine qui matche, dans une approche dite *non-greedly*, avec les opérations suivants:\n",
    "* `*?`: `*` mais *non-greedly*,\n",
    "* `+?`: `+` mais *non-greedly*,\n",
    "* `*?`: `?` mais *non-greedly*,"
   ]
  },
  {
   "cell_type": "code",
   "execution_count": 95,
   "id": "0648be6d-a40d-4d7a-87b0-51894e66b023",
   "metadata": {},
   "outputs": [
    {
     "data": {
      "text/plain": [
       "'<h1>'"
      ]
     },
     "execution_count": 95,
     "metadata": {},
     "output_type": "execute_result"
    }
   ],
   "source": [
    "# ici on va remplacer * par *? pour rendre l'opérateur * non-greedy\n",
    "re_non_greedy = re_greedy = '<.*?>'\n",
    "\n",
    "# mais on continue à cherche un texte entre <> naturellement\n",
    "# si bien que cette fois, on obtient\n",
    "match = re.match(re_non_greedy, line)\n",
    "match.group(0)"
   ]
  },
  {
   "cell_type": "markdown",
   "id": "22251c7f-a749-4501-814a-e3fcae6edea4",
   "metadata": {},
   "source": [
    "##### S'agissant du traitement des fins de ligne"
   ]
  },
  {
   "cell_type": "markdown",
   "id": "deb3d2ca-3545-4285-b841-178c4bbb5594",
   "metadata": {},
   "source": [
    "Il peux être utile, pour conclure ce notebook, de préciser un peu le comportement de la librairie vis-à-vis des fins de ligne.\n",
    "\n",
    "Historiquement, les expressions régulières telles qu'on les trouve dans les librairies C, donc dans `sed`, `grep` et autre utilitaires Unix, sont associées au modèle mental où on filtre les entrées ligne par ligne.\n",
    "\n",
    "Le module `re` en garde des traces."
   ]
  },
  {
   "cell_type": "code",
   "execution_count": 96,
   "id": "b494edf7-ca47-4bb6-ba01-78d90f3abcfc",
   "metadata": {},
   "outputs": [],
   "source": [
    "# un exemple de traitement des 'newlines' \n",
    "sample = \"\"\"une entrée\n",
    "sur\n",
    "plusieurs\n",
    "lignes\n",
    "\"\"\""
   ]
  },
  {
   "cell_type": "code",
   "execution_count": 97,
   "id": "ef8ea69c-a52a-4d1f-aca3-d3132c2df1b8",
   "metadata": {},
   "outputs": [
    {
     "data": {
      "text/plain": [
       "('une entrée',)"
      ]
     },
     "execution_count": 97,
     "metadata": {},
     "output_type": "execute_result"
    }
   ],
   "source": [
    "match = re.compile(\"(.*)\").match(sample)\n",
    "match.groups()"
   ]
  },
  {
   "cell_type": "markdown",
   "id": "215c95d6-f2de-4acf-b4c9-a42a95a7d13d",
   "metadata": {},
   "source": [
    "Vous voyez donc qque l'attrape-tout `''` en fait n'attrape pas le caractère de fin de ligne `\\n`, puisque su=i c'était le cas et coompte tenu du coté *greedly* de l'algorithme on devrait voir tout le contenu de `sample`. Il existe un flag `re.DOTALL`qui permet de faire de `.` un vrai attrape-tout qui capture aussi les newline."
   ]
  },
  {
   "cell_type": "code",
   "execution_count": 98,
   "id": "ea88664e-2e43-4ae5-90e2-76e41d4225c9",
   "metadata": {},
   "outputs": [
    {
     "data": {
      "text/plain": [
       "('une entrée\\nsur\\nplusieurs\\nlignes\\n',)"
      ]
     },
     "execution_count": 98,
     "metadata": {},
     "output_type": "execute_result"
    }
   ],
   "source": [
    "match = re.compile(\"(.*)\", flags=re.DOTALL).match(sample)\n",
    "match.groups()"
   ]
  },
  {
   "cell_type": "markdown",
   "id": "3891bbd1-8817-422a-ba22-943acb096e3a",
   "metadata": {},
   "source": [
    "Cela dit, le caractère *newline* est par ailleurs cinsidéré comme un caractère comme un autre, on peux le mentionner **dans une regexp** comme les autres. Voici quelques exemples pour illustrer tout ceci."
   ]
  },
  {
   "cell_type": "code",
   "execution_count": 100,
   "id": "0f85c8f5-b8e6-48f8-b277-f491998d14a1",
   "metadata": {},
   "outputs": [
    {
     "data": {
      "text/plain": [
       "('une entrée',)"
      ]
     },
     "execution_count": 100,
     "metadata": {},
     "output_type": "execute_result"
    }
   ],
   "source": [
    "# sans mettre le flag unicode, \\w ne matche que l'ASCII\n",
    "match = re.compile(\"([\\w ]*)\").match(sample)\n",
    "match.groups()"
   ]
  },
  {
   "cell_type": "code",
   "execution_count": 101,
   "id": "4bb02264-fcbb-49a5-8fea-021461e5ad46",
   "metadata": {},
   "outputs": [
    {
     "data": {
      "text/plain": [
       "('une entrée',)"
      ]
     },
     "execution_count": 101,
     "metadata": {},
     "output_type": "execute_result"
    }
   ],
   "source": [
    "# sans mettre le flag unicode, \\w ne matche que l'ASCII\n",
    "match = re.compile(\"([\\w ]*)\", flags=re.U).match(sample)\n",
    "match.groups()"
   ]
  },
  {
   "cell_type": "code",
   "execution_count": 103,
   "id": "a61e8805-c05a-4ce6-88f4-86981e478280",
   "metadata": {},
   "outputs": [
    {
     "data": {
      "text/plain": [
       "('une entrée\\nsur\\nplusieurs\\nlignes\\n',)"
      ]
     },
     "execution_count": 103,
     "metadata": {},
     "output_type": "execute_result"
    }
   ],
   "source": [
    "# si on ajoute \\n à la liste des caractères attendus \n",
    "# on obtient bien tout le contenu initial\n",
    "\n",
    "# attention ici il ne FAUT PAS utiliser un raw string,\n",
    "# car on veut vraiment écrire un newline dans la regexp\n",
    "\n",
    "match = re.compile(\"([\\w \\n]*)\", flags=re.UNICODE).match(sample)\n",
    "match.groups()"
   ]
  },
  {
   "cell_type": "markdown",
   "id": "f1e3b7f6-2bc3-44de-9afa-378c0d046680",
   "metadata": {
    "tags": []
   },
   "source": [
    "### Conclusion"
   ]
  },
  {
   "cell_type": "markdown",
   "id": "08584f68-bbd6-4820-9d5c-2f729ffb5dcf",
   "metadata": {},
   "source": [
    "La mise au point d'expressions régulières est certes un peu exigeante, et demande pas mal de pratique, mais permet d'écrire en quelques lignes des fonctionnalités très puissantes, c'est un investissement très rentable :)"
   ]
  },
  {
   "cell_type": "markdown",
   "id": "ec38aef4-6e52-4c4a-aa97-01c5ad723c17",
   "metadata": {},
   "source": [
    "Je vous signale enfin l'existence de **sites web** qqui évaluent une expression régulière **de manière interactive** et qui peuvent rendre la mise au point fastidieuse.\n",
    "\n",
    "Je vous signale notamment [https://pythex.org/](https://pythex.org/), et il en existe beaucoup d'autres."
   ]
  },
  {
   "cell_type": "markdown",
   "id": "0c473a2c-b675-4ffc-87ae-035775da32f7",
   "metadata": {},
   "source": [
    "### Pour en savoir plus"
   ]
  },
  {
   "cell_type": "markdown",
   "id": "b1518e5b-8bea-4f8e-b945-4c70b7325af7",
   "metadata": {},
   "source": [
    "Pour ceux qui ont quelques rudiments de la théorie des langages, vous savez qu'on distingue en général \n",
    "\n",
    " * l'**analyse lexicale**, qui découpe le texte en morceaux (qu'on appelle des *tokens*),\n",
    " * et l'**analyse syntaxique** qui décrit pour simplifier à l'extrême l'ordre dans lequel on peut trouver les tokens.\n",
    " \n",
    "Avec les expression régulières, on adresse le niveau de l'analyse lexicale. Pour l'analyse syntaxique, qui est franchement au delà des objectifs de ce cours, il existe de nombreuses alternatives, parmi lesquelles:\n",
    "\n",
    " * [`pyparsing`](http://pyparsing.wikispaces.com/Download+and+Installation)\n",
    " * [`PLY` (Python Lex-Yacc)](http://www.dabeaz.com/ply/)\n",
    " * [`ANTLR`](http://www.antlr.org) qui est un outil écrit en Java mais qui peut générer des parsers en python,\n",
    " * ..."
   ]
  },
  {
   "cell_type": "markdown",
   "id": "97e90748-49a3-4402-9afc-9f4781e6b990",
   "metadata": {
    "jp-MarkdownHeadingCollapsed": true,
    "tags": []
   },
   "source": [
    "## Problèmes"
   ]
  },
  {
   "cell_type": "markdown",
   "id": "832fc83a-7f60-488d-9228-56eebf6716d1",
   "metadata": {
    "jp-MarkdownHeadingCollapsed": true,
    "tags": []
   },
   "source": [
    "#### **Problem 1 of 5**\n",
    "Capture words that start with a vowel letter (aeiou), but ends with a non-vowel letter. There can be 0 or more letters in between. \\\n",
    "Also, it is not allowed to have other characters besides letter in between. \\\n",
    "e.g. your regular expression should match unicorn, element, but should not match: banana, apple. All letters are lowercase."
   ]
  },
  {
   "cell_type": "code",
   "execution_count": 9,
   "id": "d65937a7-1bb1-4109-90cd-4acacb949f49",
   "metadata": {},
   "outputs": [],
   "source": [
    "pattern = r'^([aeiou])([a-z])*([^aeiou])$'"
   ]
  },
  {
   "cell_type": "markdown",
   "id": "a43f4e39-a44c-4c90-9398-e9340cfe4833",
   "metadata": {
    "jp-MarkdownHeadingCollapsed": true,
    "tags": []
   },
   "source": [
    "#### **Problem 2 of 5**\n",
    "Capture numbers in octal or hexadecimal representation in Python.\\\n",
    "Octal numbers start with a prefix \"0o\" (number zero followed by lowercase letter o), and are followed by one or more numbers in the range of 0 to 7. E.g. 0o112, 0o237, 0o07.\\\n",
    "Hexadecimal numbers start with a prefix \"0x\", and are followed by one or more numbers in the range of 0 to 9 or lowercase letters in the range of a to f. E.g. 0xf3, 0x1d, 0x072."
   ]
  },
  {
   "cell_type": "code",
   "execution_count": 15,
   "id": "c91f363f-457d-494c-a3b6-e1d297cc5fd8",
   "metadata": {},
   "outputs": [
    {
     "name": "stdout",
     "output_type": "stream",
     "text": [
      "<re.Match object; span=(0, 5), match='0o117'>\n",
      "<re.Match object; span=(0, 4), match='0xf3'>\n",
      "None\n",
      "None\n"
     ]
    }
   ],
   "source": [
    "pattern = r'(^(0o)[0-7]+)|(^(0x)([0-9a-f]+))'\n",
    "print(re.fullmatch(pattern, '0o117'))\n",
    "print(re.fullmatch(pattern, '0xf3'))\n",
    "print(re.fullmatch(pattern, '1233'))\n",
    "print(re.fullmatch(pattern, '0o12f'))"
   ]
  },
  {
   "cell_type": "markdown",
   "id": "309b9d95-8941-4e09-b283-aabd01ce4d2b",
   "metadata": {
    "jp-MarkdownHeadingCollapsed": true,
    "tags": []
   },
   "source": [
    "#### **Problem 3 of 5**\n",
    "\n",
    "Capture a \"Firstname Lastname\" **at the beginning of each line.** \\\n",
    "e.g. for sentence\n",
    "**Jane Doe is eating breakfast.** \\\n",
    "Your regex should capture \"Jane Doe\". \\\n",
    "But in sentence \\\n",
    "**Today is John Doe's birthday.** \\\n",
    "Your regex should NOT capture the name in the sentence as it does not start from the beginning of the string. \\\n",
    "Notice that the name should consist of two words. Each word should start with a capital letter and has zero or more lowercase letters followed. No other symbols are allowed in the name. \\\n",
    "Some valid names are: **Issac Newton**, **L Zhang**; \\\n",
    "Some invalid names are: **john doe**, **Ling-Ling Li**."
   ]
  },
  {
   "cell_type": "code",
   "execution_count": 24,
   "id": "7982b2ee-691f-4f0a-8994-e4dcf5cae323",
   "metadata": {},
   "outputs": [
    {
     "name": "stdout",
     "output_type": "stream",
     "text": [
      "<re.Match object; span=(0, 29), match='Jane Doe is eating breakfast.'>\n",
      "<re.Match object; span=(0, 34), match='L Zhang is a great Broadway actor.'>\n",
      "None\n",
      "None\n"
     ]
    }
   ],
   "source": [
    "pattern = r'^([A-Z][a-z]* [A-Z][a-z]*) .*'\n",
    "print(re.fullmatch(pattern, 'Jane Doe is eating breakfast.'))\n",
    "print(re.fullmatch(pattern, 'L Zhang is a great Broadway actor.'))\n",
    "print(re.fullmatch(pattern, 'Ling-Ling practices violin 40 hours a day.'))\n",
    "print(re.fullmatch(pattern, 'Today is John Doe\\'s birthday.'))"
   ]
  },
  {
   "cell_type": "markdown",
   "id": "c043d037-65fa-4684-908b-bd18fad1eb79",
   "metadata": {
    "tags": []
   },
   "source": [
    "#### **Problem 4 of 5** \n",
    "**In this problem, we are using `re.findall`. Notice that if you use normal parentheses for grouping, re.findall only returns the value in the group but does not return the complete matched string.** \\\n",
    "Match any price in the form \\\\$3.45 or \\\\$23.32 or \\\\$400. Your regex should capture strings meeting the following requirements:\n",
    "Start with a \"\\\\$\" sign;\n",
    "The price should be an integer, or have exactly two digits after the decimal point."
   ]
  },
  {
   "cell_type": "code",
   "execution_count": 57,
   "id": "2fb6145e-2cad-4147-bc5d-8ba1da08c99e",
   "metadata": {},
   "outputs": [
    {
     "name": "stdout",
     "output_type": "stream",
     "text": [
      "['$3.45']\n",
      "['$23.32']\n",
      "['$40']\n",
      "[]\n",
      "[]\n"
     ]
    }
   ],
   "source": [
    "pattern = r'[$]\\d+(?:$|[.]\\d{2})'\n",
    "print(re.findall(pattern, '$3.45'))\n",
    "print(re.findall(pattern, '$23.32'))\n",
    "print(re.findall(pattern, '$40'))\n",
    "print(re.findall(pattern, '$.23'))\n",
    "print(re.findall(pattern, '$400.1'))"
   ]
  },
  {
   "cell_type": "markdown",
   "id": "146711f2-7953-4957-a91a-fcf025c7c491",
   "metadata": {},
   "source": [
    "#### Problem 5 of 5\n",
    "Capture email address with letters, numbers, underscore and dots. A valid email address defined in this problem must meet the following requirements: \n",
    "* Has an \"@\" symbol;\n",
    "* Before the \"@\" symbol, there can be one or more strings made of letters, numbers and underscores, separated by a single dot.\n",
    "* After the \"@\" symbol, there can two or more strings made of letters, numbers and underscores, separated by a single dot.\n",
    "* No other characters besides letters, numbers, underscores, dots, and the \"@\" symbol should appear in the email address.\n",
    "\n",
    "For example, your regular expression should match email addresses like: abc\\@umich.edu, 8ab.c_def9\\@example.regex.com;\n",
    "But your regex should not match: abc\\@ def., ab..abc\\@def.com, abc\\@def"
   ]
  },
  {
   "cell_type": "code",
   "execution_count": 60,
   "id": "1d2ec8e1-48ea-42c1-a7e0-02f3f013beaf",
   "metadata": {},
   "outputs": [
    {
     "name": "stdout",
     "output_type": "stream",
     "text": [
      "<re.Match object; span=(0, 13), match='abc@umich.edu'>\n",
      "<re.Match object; span=(0, 28), match='8ab.c_def9@example.regex.com'>\n",
      "None\n",
      "None\n",
      "None\n"
     ]
    }
   ],
   "source": [
    "pattern = r'([A-Za-z0-9_]+([.][A-Za-z0-9_]+)*)@([A-Za-z0-9_]+([.][A-Za-z0-9_]+)+)'\n",
    "print(re.fullmatch(pattern, 'abc@umich.edu'))\n",
    "print(re.fullmatch(pattern, '8ab.c_def9@example.regex.com'))\n",
    "print(re.fullmatch(pattern, 'abc@ def.'))\n",
    "print(re.fullmatch(pattern, 'ab..abc@def.com'))\n",
    "print(re.fullmatch(pattern, 'abc@def'))"
   ]
  },
  {
   "cell_type": "code",
   "execution_count": null,
   "id": "367557cc-f421-484e-86ab-d610b63d443c",
   "metadata": {},
   "outputs": [],
   "source": []
  }
 ],
 "metadata": {
  "kernelspec": {
   "display_name": "Python 3",
   "language": "python",
   "name": "python3"
  },
  "language_info": {
   "codemirror_mode": {
    "name": "ipython",
    "version": 3
   },
   "file_extension": ".py",
   "mimetype": "text/x-python",
   "name": "python",
   "nbconvert_exporter": "python",
   "pygments_lexer": "ipython3",
   "version": "3.8.5"
  }
 },
 "nbformat": 4,
 "nbformat_minor": 5
}
