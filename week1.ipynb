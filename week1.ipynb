{
 "cells": [
  {
   "cell_type": "markdown",
   "id": "5092fbee-6377-4e46-b33a-017fb5d3be05",
   "metadata": {
    "tags": []
   },
   "source": [
    "# Les expressions Régulière avec l' API `re`"
   ]
  },
  {
   "cell_type": "code",
   "execution_count": 1,
   "id": "9bf0f282-05bb-4533-a535-220b76d4713e",
   "metadata": {},
   "outputs": [],
   "source": [
    "import re"
   ]
  },
  {
   "cell_type": "markdown",
   "id": "9cbc1593-643e-4f89-a632-9d78de60485a",
   "metadata": {
    "tags": []
   },
   "source": [
    "## Les caractère spéciaux"
   ]
  },
  {
   "cell_type": "markdown",
   "id": "01aeadb7-da98-48d5-a00b-0bdb6559070c",
   "metadata": {
    "jp-MarkdownHeadingCollapsed": true,
    "tags": []
   },
   "source": [
    "#### `.` Valide tout caractère à l'exeption du saut de ligne"
   ]
  },
  {
   "cell_type": "markdown",
   "id": "1c009eb7-2bcc-47c6-8e79-2ecafc89f8da",
   "metadata": {},
   "source": [
    "Note : Si l'option `DOTALL` est spécifié , il valide tout caractère  le saut de ligne inclut"
   ]
  },
  {
   "cell_type": "code",
   "execution_count": 3,
   "id": "9a3b401b-3da6-481b-846c-514d1b1272cb",
   "metadata": {},
   "outputs": [
    {
     "data": {
      "text/plain": [
       "['a', 'b', 'c']"
      ]
     },
     "execution_count": 3,
     "metadata": {},
     "output_type": "execute_result"
    }
   ],
   "source": [
    "re.findall('.', 'abc')"
   ]
  },
  {
   "cell_type": "code",
   "execution_count": 2,
   "id": "cbbcb837-9f4e-467f-af8b-0bf96146f769",
   "metadata": {},
   "outputs": [
    {
     "data": {
      "text/plain": [
       "['a', 'b', 'c', ' ']"
      ]
     },
     "execution_count": 2,
     "metadata": {},
     "output_type": "execute_result"
    }
   ],
   "source": [
    "re.findall('.', 'abc ')"
   ]
  },
  {
   "cell_type": "code",
   "execution_count": 5,
   "id": "e7d4ea91-90c0-4120-900b-911b06d81195",
   "metadata": {},
   "outputs": [
    {
     "data": {
      "text/plain": [
       "['a', 'b', 'c', ' ']"
      ]
     },
     "execution_count": 5,
     "metadata": {},
     "output_type": "execute_result"
    }
   ],
   "source": [
    "# Saut de ligne n'est pas pris en charge\n",
    "re.findall('.', 'abc \\n')"
   ]
  },
  {
   "cell_type": "code",
   "execution_count": 6,
   "id": "dcaa50eb-b47c-4fc7-9edb-141a551a174c",
   "metadata": {},
   "outputs": [
    {
     "data": {
      "text/plain": [
       "['a', 'b', 'c', ' ', '\\n']"
      ]
     },
     "execution_count": 6,
     "metadata": {},
     "output_type": "execute_result"
    }
   ],
   "source": [
    "re.findall('.', 'abc \\n', re.DOTALL)"
   ]
  },
  {
   "cell_type": "markdown",
   "id": "f2b2d313-a876-48b4-99b1-1bfcf2d85815",
   "metadata": {
    "tags": []
   },
   "source": [
    "#### `^` (Accent circonflexe.) : Valide chaque début de chaine de caractère "
   ]
  },
  {
   "cell_type": "markdown",
   "id": "e45fa31e-0f36-4133-9514-7b619254cd48",
   "metadata": {},
   "source": [
    "*Note* : L'option `MULTILIGNE` permet de valider aussi ce qui suit chaque saut de ligne"
   ]
  },
  {
   "cell_type": "markdown",
   "id": "a6346b0e-d84b-418e-9d6d-fc612fe67fbc",
   "metadata": {
    "tags": []
   },
   "source": [
    "#### `$` : Valide la fin d'une chaîne de caractère (à revoir)"
   ]
  },
  {
   "cell_type": "markdown",
   "id": "e992574d-48ba-4e0f-8309-84ce1eb7fbc9",
   "metadata": {},
   "source": [
    "*Note :* Valide aussi avant chaque saut de ligne en mode `MULTILIGNE`"
   ]
  },
  {
   "cell_type": "markdown",
   "id": "342467d4-9c7e-4507-9ab3-aeb6e25f5ac8",
   "metadata": {
    "jp-MarkdownHeadingCollapsed": true,
    "tags": []
   },
   "source": [
    "#### `*` : Fait valider par l'expression rationnelle résultante 0 répétition où plus de l'expression qui précède."
   ]
  },
  {
   "cell_type": "markdown",
   "id": "fd6de5a1-f5c8-4bd8-ab0c-6b98e7fed539",
   "metadata": {},
   "source": [
    "#### `+` : Fait valider par l'expression rationnelle résultante *1 répétition où plus* de l'expression qui précède."
   ]
  },
  {
   "cell_type": "markdown",
   "id": "60e662a9-8cf9-4a84-b476-841663da6497",
   "metadata": {
    "jp-MarkdownHeadingCollapsed": true,
    "tags": []
   },
   "source": [
    "#### `?` : Fait valider par l'expression rationnelle résultante *0 ou 1* repétition de l'expression qui précède."
   ]
  },
  {
   "cell_type": "markdown",
   "id": "b9d1d146-acdb-45bd-9036-ae0a2aa89dc6",
   "metadata": {
    "tags": []
   },
   "source": [
    "#### `*?` , `+?`, `??`"
   ]
  },
  {
   "cell_type": "markdown",
   "id": "88302b24-77c5-4043-a483-8644815dc2bf",
   "metadata": {},
   "source": [
    "Les quantificateurs `*`, `+`, `?` sont tous greedy(gourmands) au sens où il valide le texte le plus long possible. Ajouter un `?` derrière (`*?` , `+?`, `??`) fait valider au sens minimal."
   ]
  },
  {
   "cell_type": "markdown",
   "id": "b070b87e-484f-4e4b-8ab8-54e7590f669d",
   "metadata": {
    "jp-MarkdownHeadingCollapsed": true,
    "tags": []
   },
   "source": [
    "#### `{m}` : Fait valider l'expression rationnelle résultante m répétition(s) de l'expression qui précède"
   ]
  },
  {
   "cell_type": "markdown",
   "id": "3466bcd8-2dc7-4916-9dd9-234b122b717f",
   "metadata": {},
   "source": [
    "#### `{m,n}` : Fait valider l'expression rationnelle résultante entre m et n répétition(s) de l'expression qui précède et *cherchant à valider le moins possible*"
   ]
  },
  {
   "cell_type": "markdown",
   "id": "a6517236-debb-43ee-9814-ef6661330b04",
   "metadata": {
    "tags": []
   },
   "source": [
    "#### `\\` : Fait échapper les carractères spéciaux ou signale une séquence spéciale (décrite en dessous)"
   ]
  },
  {
   "cell_type": "markdown",
   "id": "06d1c410-ae52-401d-819b-fb75d74615b2",
   "metadata": {},
   "source": [
    "*Note :*  Il est hautement recommandé d'utiliser des chaînes brutes (`r'texte'`) pour tout sauf les expressions les plus simpes "
   ]
  },
  {
   "cell_type": "markdown",
   "id": "461cdd76-208c-4c38-9eac-a7129d5a1d9e",
   "metadata": {
    "tags": []
   },
   "source": [
    "#### `[]` : Utiliser pour indiquer un esemble de caractères."
   ]
  },
  {
   "cell_type": "markdown",
   "id": "b30c4a87-748e-4007-b5d8-64aaa22b3d69",
   "metadata": {},
   "source": [
    "*Note :* des intervales de caractère peuvent être indiqués"
   ]
  },
  {
   "cell_type": "markdown",
   "id": "ca9f6504-0953-42d1-a2bd-ea889f0545cd",
   "metadata": {},
   "source": [
    "*Note :* Les caractères spéciaux perdent leurs sens à l'intérieur d'un ensembe"
   ]
  },
  {
   "cell_type": "markdown",
   "id": "deb8f2b6-d201-41d5-a0b9-9054fb15b13b",
   "metadata": {},
   "source": [
    "*Note :* Les classes de caractères (`\\w` ou `\\S`) sont accepté à l'intérieur d'un ensemble"
   ]
  },
  {
   "cell_type": "markdown",
   "id": "fecede71-3811-4179-9fa1-90f03882dbce",
   "metadata": {},
   "source": [
    "*Note :* Les caractères qui ne sont pas dans un ensembles peuvent être trouvés dans un ensemble ensemble complémentaire. Cette ensemble est précédé par `^`"
   ]
  },
  {
   "cell_type": "markdown",
   "id": "df85abe2-013c-428a-a59f-fdc2a0ee98ea",
   "metadata": {},
   "source": [
    "*Note :* Pour insérer le littéral `]` il faut le faie précédé d'un blacslash ou le placer au début de l'ensemble"
   ]
  },
  {
   "cell_type": "markdown",
   "id": "bae15335-7bdc-4893-954d-9bbbbd6efa43",
   "metadata": {},
   "source": [
    "#### `|` : Corespond à un 'OU'"
   ]
  },
  {
   "cell_type": "markdown",
   "id": "b36eac57-d05b-4f73-bb7e-81dd0e3bce3b",
   "metadata": {
    "tags": []
   },
   "source": [
    "#### `()`: Permet d'indiquer un groupe"
   ]
  },
  {
   "cell_type": "markdown",
   "id": "3b6b04b6-463b-43d9-87c7-37653e8cbe4b",
   "metadata": {},
   "source": [
    "*Note :* Le contenue d'un groupe peux être réutiliser plus loin dans la chaine avec une séquence spécial `\\number` décrite en dessous."
   ]
  },
  {
   "cell_type": "markdown",
   "id": "35440d47-80b0-41f4-9423-0bacf94f2035",
   "metadata": {},
   "source": [
    "## Les extensions `(?...)`"
   ]
  },
  {
   "cell_type": "markdown",
   "id": "62076f97-ffb2-4225-8b7d-369601d199f5",
   "metadata": {},
   "source": [
    "Les extensions ne crée en général pas de nouveau groupe; \n",
    "`(?P<name>...)` est la seule exception à la règle."
   ]
  },
  {
   "cell_type": "markdown",
   "id": "1ad527b1-620d-4daf-a96a-eda51a1139cd",
   "metadata": {},
   "source": [
    "*Note :* Un `'?'` suivant une `'('` n'a pas de sens autrement."
   ]
  },
  {
   "cell_type": "markdown",
   "id": "08657dbb-7c26-41bd-a88d-937845463e09",
   "metadata": {},
   "source": [
    "#### `(?P<name>...)`"
   ]
  },
  {
   "cell_type": "markdown",
   "id": "ef0b04c8-dfaf-4a82-8986-0608b432cded",
   "metadata": {},
   "source": [
    "#### `(?P=name)`"
   ]
  },
  {
   "cell_type": "markdown",
   "id": "6468e301-f3c5-468c-8d8a-4ac8b92d9ab1",
   "metadata": {},
   "source": [
    "#### `(?#...)` : Valide un commentaire"
   ]
  },
  {
   "cell_type": "markdown",
   "id": "cb872ea6-c941-4156-8a85-de60e7c3254a",
   "metadata": {},
   "source": [
    "#### `(?=...)`"
   ]
  },
  {
   "cell_type": "markdown",
   "id": "834e0bdf-8c77-4ccd-a69e-936951984cae",
   "metadata": {},
   "source": [
    "#### `(?:pattern)` treat \"pattern\" as a group, but not make re.findall only return the content in the group"
   ]
  },
  {
   "cell_type": "markdown",
   "id": "911fed7e-e923-4b87-9f18-69f9aa5b83f3",
   "metadata": {
    "jp-MarkdownHeadingCollapsed": true,
    "tags": []
   },
   "source": [
    "#### `(?!...)`"
   ]
  },
  {
   "cell_type": "markdown",
   "id": "3eaf50fe-6e4b-4b14-b608-e81b8629d7bd",
   "metadata": {},
   "source": [
    "#### `(?<=...)`"
   ]
  },
  {
   "cell_type": "markdown",
   "id": "b868ece9-b433-4171-808a-55289a8540f6",
   "metadata": {},
   "source": [
    "#### `(?<!...)`"
   ]
  },
  {
   "cell_type": "markdown",
   "id": "1cf452d0-a2ff-4be3-a2ca-e84701fae80f",
   "metadata": {},
   "source": [
    "#### `(?(id/name)yes-pattern|no-pattern)`"
   ]
  },
  {
   "cell_type": "markdown",
   "id": "e51c9318-5f3f-40d1-8085-d508fdbab2f7",
   "metadata": {
    "jp-MarkdownHeadingCollapsed": true,
    "tags": []
   },
   "source": [
    "## Les séquences spéciales"
   ]
  },
  {
   "cell_type": "markdown",
   "id": "935a6d20-4c80-4a77-9a39-34d71f630a06",
   "metadata": {},
   "source": [
    "Il sont composées de `'\\'` suivis par des caractères de la liste (`'number'`, `'A'`, `'b'`, `'B'`, `'d'`, `'D'`, `'s'`, `'S'`, `'w'`, `'W'`, `'Z'`)"
   ]
  },
  {
   "cell_type": "markdown",
   "id": "8be8f7d4-76fd-4c17-85e8-722955541800",
   "metadata": {},
   "source": [
    "#### `\\w` : Any lowercase or uppercase letter, or underscore"
   ]
  },
  {
   "cell_type": "markdown",
   "id": "d08e9215-5a3b-4a7b-914c-b33647b83eea",
   "metadata": {
    "jp-MarkdownHeadingCollapsed": true,
    "tags": []
   },
   "source": [
    "## La pluspart des échapements standard supportés par les chaines littérales sont aussi acceptés par l'annalyseur d'expressions rationnel."
   ]
  },
  {
   "cell_type": "markdown",
   "id": "7111228d-2b46-47d1-8397-0f812f46d5ab",
   "metadata": {},
   "source": [
    "```\n",
    "\\a      \\b      \\f      \\n\n",
    "\\N      \\r      \\t      \\u\n",
    "\\U      \\v      \\x      \\\\\n",
    "```"
   ]
  },
  {
   "cell_type": "markdown",
   "id": "97e90748-49a3-4402-9afc-9f4781e6b990",
   "metadata": {},
   "source": [
    "# Exemples"
   ]
  },
  {
   "cell_type": "markdown",
   "id": "832fc83a-7f60-488d-9228-56eebf6716d1",
   "metadata": {
    "jp-MarkdownHeadingCollapsed": true,
    "tags": []
   },
   "source": [
    "#### **Problem 1 of 5**\n",
    "Capture words that start with a vowel letter (aeiou), but ends with a non-vowel letter. There can be 0 or more letters in between. \\\n",
    "Also, it is not allowed to have other characters besides letter in between. \\\n",
    "e.g. your regular expression should match unicorn, element, but should not match: banana, apple. All letters are lowercase."
   ]
  },
  {
   "cell_type": "code",
   "execution_count": 9,
   "id": "d65937a7-1bb1-4109-90cd-4acacb949f49",
   "metadata": {},
   "outputs": [],
   "source": [
    "pattern = r'^([aeiou])([a-z])*([^aeiou])$'"
   ]
  },
  {
   "cell_type": "markdown",
   "id": "a43f4e39-a44c-4c90-9398-e9340cfe4833",
   "metadata": {
    "jp-MarkdownHeadingCollapsed": true,
    "tags": []
   },
   "source": [
    "#### **Problem 2 of 5**\n",
    "Capture numbers in octal or hexadecimal representation in Python.\\\n",
    "Octal numbers start with a prefix \"0o\" (number zero followed by lowercase letter o), and are followed by one or more numbers in the range of 0 to 7. E.g. 0o112, 0o237, 0o07.\\\n",
    "Hexadecimal numbers start with a prefix \"0x\", and are followed by one or more numbers in the range of 0 to 9 or lowercase letters in the range of a to f. E.g. 0xf3, 0x1d, 0x072."
   ]
  },
  {
   "cell_type": "code",
   "execution_count": 15,
   "id": "c91f363f-457d-494c-a3b6-e1d297cc5fd8",
   "metadata": {},
   "outputs": [
    {
     "name": "stdout",
     "output_type": "stream",
     "text": [
      "<re.Match object; span=(0, 5), match='0o117'>\n",
      "<re.Match object; span=(0, 4), match='0xf3'>\n",
      "None\n",
      "None\n"
     ]
    }
   ],
   "source": [
    "pattern = r'(^(0o)[0-7]+)|(^(0x)([0-9a-f]+))'\n",
    "print(re.fullmatch(pattern, '0o117'))\n",
    "print(re.fullmatch(pattern, '0xf3'))\n",
    "print(re.fullmatch(pattern, '1233'))\n",
    "print(re.fullmatch(pattern, '0o12f'))"
   ]
  },
  {
   "cell_type": "markdown",
   "id": "309b9d95-8941-4e09-b283-aabd01ce4d2b",
   "metadata": {
    "jp-MarkdownHeadingCollapsed": true,
    "tags": []
   },
   "source": [
    "#### **Problem 3 of 5**\n",
    "\n",
    "Capture a \"Firstname Lastname\" **at the beginning of each line.** \\\n",
    "e.g. for sentence\n",
    "**Jane Doe is eating breakfast.** \\\n",
    "Your regex should capture \"Jane Doe\". \\\n",
    "But in sentence \\\n",
    "**Today is John Doe's birthday.** \\\n",
    "Your regex should NOT capture the name in the sentence as it does not start from the beginning of the string. \\\n",
    "Notice that the name should consist of two words. Each word should start with a capital letter and has zero or more lowercase letters followed. No other symbols are allowed in the name. \\\n",
    "Some valid names are: **Issac Newton**, **L Zhang**; \\\n",
    "Some invalid names are: **john doe**, **Ling-Ling Li**."
   ]
  },
  {
   "cell_type": "code",
   "execution_count": 24,
   "id": "7982b2ee-691f-4f0a-8994-e4dcf5cae323",
   "metadata": {},
   "outputs": [
    {
     "name": "stdout",
     "output_type": "stream",
     "text": [
      "<re.Match object; span=(0, 29), match='Jane Doe is eating breakfast.'>\n",
      "<re.Match object; span=(0, 34), match='L Zhang is a great Broadway actor.'>\n",
      "None\n",
      "None\n"
     ]
    }
   ],
   "source": [
    "pattern = r'^([A-Z][a-z]* [A-Z][a-z]*) .*'\n",
    "print(re.fullmatch(pattern, 'Jane Doe is eating breakfast.'))\n",
    "print(re.fullmatch(pattern, 'L Zhang is a great Broadway actor.'))\n",
    "print(re.fullmatch(pattern, 'Ling-Ling practices violin 40 hours a day.'))\n",
    "print(re.fullmatch(pattern, 'Today is John Doe\\'s birthday.'))"
   ]
  },
  {
   "cell_type": "markdown",
   "id": "c043d037-65fa-4684-908b-bd18fad1eb79",
   "metadata": {
    "tags": []
   },
   "source": [
    "#### **Problem 4 of 5** \n",
    "**In this problem, we are using `re.findall`. Notice that if you use normal parentheses for grouping, re.findall only returns the value in the group but does not return the complete matched string.** \\\n",
    "Match any price in the form \\\\$3.45 or \\\\$23.32 or \\\\$400. Your regex should capture strings meeting the following requirements:\n",
    "Start with a \"\\\\$\" sign;\n",
    "The price should be an integer, or have exactly two digits after the decimal point."
   ]
  },
  {
   "cell_type": "code",
   "execution_count": 57,
   "id": "2fb6145e-2cad-4147-bc5d-8ba1da08c99e",
   "metadata": {},
   "outputs": [
    {
     "name": "stdout",
     "output_type": "stream",
     "text": [
      "['$3.45']\n",
      "['$23.32']\n",
      "['$40']\n",
      "[]\n",
      "[]\n"
     ]
    }
   ],
   "source": [
    "pattern = r'[$]\\d+(?:$|[.]\\d{2})'\n",
    "print(re.findall(pattern, '$3.45'))\n",
    "print(re.findall(pattern, '$23.32'))\n",
    "print(re.findall(pattern, '$40'))\n",
    "print(re.findall(pattern, '$.23'))\n",
    "print(re.findall(pattern, '$400.1'))"
   ]
  },
  {
   "cell_type": "markdown",
   "id": "146711f2-7953-4957-a91a-fcf025c7c491",
   "metadata": {},
   "source": [
    "#### Problem 5 of 5\n",
    "Capture email address with letters, numbers, underscore and dots. A valid email address defined in this problem must meet the following requirements: \n",
    "* Has an \"@\" symbol;\n",
    "* Before the \"@\" symbol, there can be one or more strings made of letters, numbers and underscores, separated by a single dot.\n",
    "* After the \"@\" symbol, there can two or more strings made of letters, numbers and underscores, separated by a single dot.\n",
    "* No other characters besides letters, numbers, underscores, dots, and the \"@\" symbol should appear in the email address.\n",
    "\n",
    "For example, your regular expression should match email addresses like: abc\\@umich.edu, 8ab.c_def9\\@example.regex.com;\n",
    "But your regex should not match: abc\\@ def., ab..abc\\@def.com, abc\\@def"
   ]
  },
  {
   "cell_type": "code",
   "execution_count": 60,
   "id": "1d2ec8e1-48ea-42c1-a7e0-02f3f013beaf",
   "metadata": {},
   "outputs": [
    {
     "name": "stdout",
     "output_type": "stream",
     "text": [
      "<re.Match object; span=(0, 13), match='abc@umich.edu'>\n",
      "<re.Match object; span=(0, 28), match='8ab.c_def9@example.regex.com'>\n",
      "None\n",
      "None\n",
      "None\n"
     ]
    }
   ],
   "source": [
    "pattern = r'([A-Za-z0-9_]+([.][A-Za-z0-9_]+)*)@([A-Za-z0-9_]+([.][A-Za-z0-9_]+)+)'\n",
    "print(re.fullmatch(pattern, 'abc@umich.edu'))\n",
    "print(re.fullmatch(pattern, '8ab.c_def9@example.regex.com'))\n",
    "print(re.fullmatch(pattern, 'abc@ def.'))\n",
    "print(re.fullmatch(pattern, 'ab..abc@def.com'))\n",
    "print(re.fullmatch(pattern, 'abc@def'))"
   ]
  },
  {
   "cell_type": "code",
   "execution_count": null,
   "id": "367557cc-f421-484e-86ab-d610b63d443c",
   "metadata": {},
   "outputs": [],
   "source": []
  }
 ],
 "metadata": {
  "kernelspec": {
   "display_name": "Python 3",
   "language": "python",
   "name": "python3"
  },
  "language_info": {
   "codemirror_mode": {
    "name": "ipython",
    "version": 3
   },
   "file_extension": ".py",
   "mimetype": "text/x-python",
   "name": "python",
   "nbconvert_exporter": "python",
   "pygments_lexer": "ipython3",
   "version": "3.8.5"
  }
 },
 "nbformat": 4,
 "nbformat_minor": 5
}
